{
 "cells": [
  {
   "cell_type": "markdown",
   "metadata": {},
   "source": [
    "# Radio Communication Via a Computer Interface Test\n"
   ]
  },
  {
   "cell_type": "markdown",
   "metadata": {},
   "source": [
    "Now that you have gotten your radio and radio interfaces, we are ready to experiment with them. In this notebook we will test the interface and the radio, make sure that everything is working correctly so that you will be able to make progress on the rest of labs as well as the project.\n",
    "\n",
    "<center><img src=\"./radio_interface.jpg\" alt=\"gsm\" style=\"width: 400px;\"/></center>\n",
    "<center>Figure 1: The radio computer interface </center>\n",
    "\n",
    "The interface you got connects the radio to the sound extension of your Pi through two audio cables. You will send and receive audio from your radio, and you will be able to key the radio from your python script using one of the General Purpose IO (GPIO) pins. The interface also has a ground-loop isolation box. It has two audio transformers that prevent voltage potential from your Pi to get to the radio. The isolation box has a Kenwood style audio connector with a 2.5mm and 3.5mm audio Jack that connects to your Baofeng radio. \n",
    "\n",
    "<center><img src=\"./radio_attenuator.jpg\" alt=\"gsm\" style=\"width: 400px;\"/></center>\n",
    "<center>Figure 2: Connect RF attenuator between the radio and its antenna to prevent RF interference</center>\n",
    "Since the radio is physically close to our Pi/sound extension and audio interface, the transmitted RF wave could easily cause RF interference with the circuits. We need to install a RF attenuator at its transmission port (between the radio and its antenna shown in Fig.2) to prevent interference. Please keep the attenuator on the radio throughout this lab.\n"
   ]
  },
  {
   "cell_type": "markdown",
   "metadata": {},
   "source": [
    "\n",
    "**Starting:**\n",
    "\n",
    "* Make sure that the channel you will use is not already in use by someone else\n",
    "* Choose one of the experimental channels (71-98) in the programmed channels on your radio, preferably a UHF one (75-98)\n",
    "* Before you start transmitting, you must identify with your call sign and that you intend to use this channel for performing experiments\n",
    "* Connect the audio interface to the radio and to the sound extension of your Pi\n",
    "* Make sure in alsamixer settings that the volume is properly set to prevent overloading the radio input and that both input and output are not on mute. \n",
    "* Make sure the output volume on the radio is reasonable to prevent overloading of the interface. Turning clockwise when the radio is off for 1/4 of a turn works well for me. \n",
    "\n",
    "**During operation:**\n",
    "\n",
    "* If the green light on the radio turns on frequently, it means that someone is transmitting on your channel. In that case, switch to a different one. \n",
    "* If the red light turns on, the radio is transmitting. If it is not supposed to, then something got messed up with the sound extension that affects proper radio triggering. It's probably went AWOL due to RF interference. Turn off the radio and reboot the Raspberry Pi with ```sudo reboot```. Turn on the radio and run the code again.\n",
    "* Announce your callsign every 10 minutes\n",
    "* Make sure that the antenna is not close to the audio cable and is as orthogonal as possible to it  -- this will prevent RF to get into the audio interface. \n",
    "* Sometimes, the sound extension will stop working due to RF overloading. To prevent that, put your radio further away as possible from the interface.\n",
    "* Use low-power (# key) when possible\n",
    "\n",
    "**Finishing:**\n",
    "\n",
    "* Sign off with your call sign\n",
    "\n",
    "** RF interference from radio transmission that makes the sound extension fail is \\#1 cause of technical issues in this lab. If that happens **\n",
    "* Make sure the antenna is not aligned with any cable\n",
    "* Make sure the radio is far as possible from the interface\n",
    "* Put your radio on a shelf or elevated\n",
    "* Ask us for more Ferrite beeds to put on your cables. \n",
    "* For this lab, remove the antenna from the SDR -- since you will be transmitting really close to the SDR, you don't want to overload the receiver.  \n",
    "\n"
   ]
  },
  {
   "cell_type": "markdown",
   "metadata": {},
   "source": [
    "## Testing the  Audio:\n",
    "\n",
    "The first test/example would be to see if we can capture audio from the radio and play it on the raspberry pi.\n",
    "\n",
    "* Make sure the Pi, Radio, Radio interface is connected as Fig. 1 shows.\n",
    "* Connect the audio interface to the radio and to the sound extension of your Pi. Connect ```RX AUDIO TO PC``` to ```LINE IN``` and ```TX AUDIO FROM PC``` to ```LINE OUT```\n",
    "* Connect the speaker to the builtin audio output of the raspberry pi.\n",
    "* On the radio, press on the orange button to switch to FM radio mode. Tune to 94.1 KPFA. Set the volume at quarter of a turn. You can also tune to NOAA Weather 162.400MHz. \n",
    "* The following code records the audio that is coming out of the radio into the sound extension and plays it on the computer built-in speakers. "
   ]
  },
  {
   "cell_type": "code",
   "execution_count": null,
   "metadata": {},
   "outputs": [],
   "source": [
    "# configure audio settings for the raspberry pi\n",
    "\n",
    "!amixer -c 1 -- sset 'Capture Mux' 'LINE_IN'\n",
    "!amixer -c 1 -- sset Lineout playback unmute\n",
    "!amixer -c 1 -- sset Lineout playback  50%,50%\n",
    "!amixer -c 1 -- sset Mic capture  67%\n",
    "!amixer -c 1 -- sset Mic playback  59%\n"
   ]
  },
  {
   "cell_type": "code",
   "execution_count": null,
   "metadata": {},
   "outputs": [],
   "source": [
    "# Package import\n",
    "import numpy as np\n",
    "import matplotlib.pyplot as plt\n",
    "import queue as Queue\n",
    "import sounddevice as sd\n",
    "import RPi.GPIO as GPIO\n",
    "import time\n",
    "\n",
    "from testing_functions import myspectrogram_hann_ovlp\n",
    "%matplotlib inline"
   ]
  },
  {
   "cell_type": "code",
   "execution_count": null,
   "metadata": {},
   "outputs": [],
   "source": [
    "# select built-in audio to play audio / select Fe-Pi audio to record\n",
    "builtin_idx = 0\n",
    "USB_idx = 2\n",
    "\n",
    "# set default sample rate and number of channels. \n",
    "fs = 48000\n",
    "sd.default.samplerate=fs\n",
    "sd.default.channels = 1"
   ]
  },
  {
   "cell_type": "code",
   "execution_count": null,
   "metadata": {
    "scrolled": false
   },
   "outputs": [],
   "source": [
    "# this callback function will play captured data \n",
    "# it will be called by the soundevice stream and run in a different thread\n",
    "\n",
    "def replay_callback(indata,outdata, frames, time, status):\n",
    "    if status:\n",
    "        print(status)\n",
    "    outdata[:] = indata  # the [:] is important so data is copied not referenced !\n",
    "    \n",
    " \n",
    "# create stream\n",
    "# Will record from device 5 and play through device 3 \n",
    "st = sd.Stream(device=(USB_idx,builtin_idx),callback=replay_callback)\n",
    "\n",
    "\n",
    "# start stream -- will run in background till stopped\n",
    "st.start()\n",
    "\n",
    "# sleep 15 seconds\n",
    "time.sleep(15)\n",
    "\n",
    "# stop and close stream -- must stop and close for clean exit\n",
    "\n",
    "st.stop()\n",
    "st.close()"
   ]
  },
  {
   "cell_type": "markdown",
   "metadata": {},
   "source": [
    "#### If you cannot hear the audio from the radio, adjust the volume knob on the radio to raise the volume until you hear it."
   ]
  },
  {
   "cell_type": "markdown",
   "metadata": {},
   "source": [
    "## Testing  Radio Transmit control\n",
    "\n",
    "* Follow the preparation steps listed in the beginning of the document (identify your callsign and announce testing)\n",
    "* Pick an experimental channel 71-98\n",
    "* Set the power of the radio to low if it's not set already (short press the # key. shows up as a small 'L')\n",
    "\n",
    "* Connect the jumper cables from the interface to the GPIO pins. Connect the ground to Pin number 9, and the other to pin number 16\n",
    "\n",
    "<center><img src=\"./pinout.jpg\" alt=\"gsm\" style=\"width: 200px;\"/></center>\n",
    "<center>Figure 3: Raspberry pi pinout</center>\n",
    "\n",
    "* Connected the second Pi, interface, and radio to listen to the transmission\n",
    "2) Tune both radio to the same communication channel \n",
    "3) Run the following sections\n",
    "\n",
    "You should be able to hear the transmitting pure-tone signal from the second radio. \n"
   ]
  },
  {
   "cell_type": "markdown",
   "metadata": {},
   "source": [
    "## WARNING: This is where things may fail due to RF interference. If your radio does not stop transmitting, turn off the radio and reboot the Pi. Look above for tips for solving interference problems. Make sure the attenuator is connected to the antenna port of the radio to prevent RF interference **"
   ]
  },
  {
   "cell_type": "markdown",
   "metadata": {},
   "source": [
    "#### Transmission part of code"
   ]
  },
  {
   "cell_type": "code",
   "execution_count": null,
   "metadata": {},
   "outputs": [],
   "source": [
    "GPIO.cleanup()\n",
    "GPIO.setmode(GPIO.BOARD)\n",
    "PTT = 16\n",
    "GPIO.setup(PTT, GPIO.OUT, initial = 0)"
   ]
  },
  {
   "cell_type": "markdown",
   "metadata": {},
   "source": [
    "The following cell is for transmission of a pure tone. Pi #1 should run this while Pi #2 should run the receiving part of the code at the same time to listen to the transmitted signal"
   ]
  },
  {
   "cell_type": "code",
   "execution_count": null,
   "metadata": {},
   "outputs": [],
   "source": [
    "t = np.r_[0:1*48000]/48000\n",
    "sig1 = 0.5*np.sin(2*np.pi*2000*t)\n",
    "sig2 = 0.5*np.sin(2*np.pi*1000*t)\n",
    "\n",
    "GPIO.output(PTT, GPIO.HIGH) # Key radio\n",
    "time.sleep(0.1) #give radio time to start\n",
    "sd.play(sig1,device=USB_idx,  blocking=True)  \n",
    "GPIO.output(PTT, GPIO.LOW)\n",
    "\n",
    "time.sleep(0.1)\n",
    "\n",
    "GPIO.output(PTT, GPIO.HIGH)\n",
    "time.sleep(0.1) #give radio time to start\n",
    "sd.play(sig2,samplerate=48000,device=USB_idx,  blocking=True)\n",
    "GPIO.output(PTT, GPIO.LOW)"
   ]
  },
  {
   "cell_type": "markdown",
   "metadata": {},
   "source": [
    "If the radio is stuck and continues to transmit signal, this means the Pi is affected by RF interference. <br/>\n",
    "1) Turn off the radio and stop the program. <br/>\n",
    "2) Run the following code to set the GPIO to low. <br/> \n",
    "3) After this, reboot the Pi to reset the GPIO setting. <br/>"
   ]
  },
  {
   "cell_type": "code",
   "execution_count": null,
   "metadata": {},
   "outputs": [],
   "source": [
    "GPIO.output(PTT, GPIO.LOW)"
   ]
  },
  {
   "cell_type": "markdown",
   "metadata": {},
   "source": [
    "#### Receiving part of code\n",
    "Run this part of the code with Pi #2 to listen to the FM signal transmitted from Pi #1."
   ]
  },
  {
   "cell_type": "code",
   "execution_count": null,
   "metadata": {},
   "outputs": [],
   "source": [
    "def queuereplay_callback(indata,outdata, frames, time, status):\n",
    "    if status:\n",
    "        print(status)\n",
    "    outdata[:] = indata\n",
    "    Qin.put( indata )  # Global queue\n",
    "\n",
    "Qin = Queue.Queue()\n",
    "\n",
    "# Will record from device 2 and play through device 0\n",
    "st = sd.Stream( device=(USB_idx, builtin_idx),callback=queuereplay_callback)\n",
    "\n",
    "st.start()\n",
    "\n",
    "# record and play about 10.6 seconds of audio 1000*512/48000 = 10.6 s\n",
    "\n",
    "T_record = 3 # record 3 sec\n",
    "\n",
    "Nseg = T_record * fs // 512\n",
    "sig_record = np.zeros(Nseg*512)\n",
    "\n",
    "for n in range(0,Nseg):\n",
    "    \n",
    "    samples = Qin.get()\n",
    "    sig_record[512*n:512*(n+1)]=samples.reshape((512,))\n",
    "    \n",
    "st.stop()\n",
    "st.close()\n",
    "\n",
    "# empty queue just in case there's something left\n",
    "while not(Qin.empty()) :\n",
    "    samples=Qin.get()"
   ]
  },
  {
   "cell_type": "markdown",
   "metadata": {},
   "source": [
    "Plot the result of received signal. The received signal is supposed to look like the plots below:\n",
    "<center><img src=\"./Normal_sequence.png\" alt=\"gsm\" style=\"width: 400px;\"/></center>\n",
    "<center>Figure 4: Normal recorded sequence</center>\n",
    "<center><img src=\"./Normal_spectrogram.png\" alt=\"gsm\" style=\"width: 400px;\"/></center>\n",
    "<center>Figure 5: Normal spectrogram of recorded sequence</center>\n",
    "\n",
    "Note that if the volume of the listening radio is too large, you will saturate the recording device. Then, you will get something like below. Try to tune down the radio volume to avoid this happening.\n",
    "<center><img src=\"./Saturated_sequence.png\" alt=\"gsm\" style=\"width: 400px;\"/></center>\n",
    "<center>Figure 6: Saturated recorded sequence</center>\n",
    "<center><img src=\"./Saturated_spectrogram.png\" alt=\"gsm\" style=\"width: 400px;\"/></center>\n",
    "<center>Figure 7: Saturated spectrogram of recorded sequence</center>\n",
    "\n"
   ]
  },
  {
   "cell_type": "code",
   "execution_count": null,
   "metadata": {},
   "outputs": [],
   "source": [
    "# Plotting the recorded sequence\n",
    "\n",
    "fig = plt.figure(figsize=(16,4))\n",
    "t = np.r_[0:Nseg*512]/48000\n",
    "plt.plot(t,sig_record)\n",
    "plt.title('Recorded sequence')\n",
    "plt.xlabel('Time (sec)')\n",
    "plt.ylabel('Amplitude')\n",
    "\n"
   ]
  },
  {
   "cell_type": "code",
   "execution_count": null,
   "metadata": {},
   "outputs": [],
   "source": [
    "# Plotting the spectrogram of the received sequence\n",
    "tt,ff,xmf = myspectrogram_hann_ovlp(sig_record, 512, fs, 0 ,dbf = 40)\n",
    "plt.title('Spectrogram of the recorded sequence')"
   ]
  }
 ],
 "metadata": {
  "kernelspec": {
   "display_name": "Python 3",
   "language": "python",
   "name": "python3"
  },
  "language_info": {
   "codemirror_mode": {
    "name": "ipython",
    "version": 3
   },
   "file_extension": ".py",
   "mimetype": "text/x-python",
   "name": "python",
   "nbconvert_exporter": "python",
   "pygments_lexer": "ipython3",
   "version": "3.5.3"
  }
 },
 "nbformat": 4,
 "nbformat_minor": 2
}
