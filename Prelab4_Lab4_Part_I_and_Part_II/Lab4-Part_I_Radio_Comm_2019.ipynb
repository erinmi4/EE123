{
 "cells": [
  {
   "cell_type": "markdown",
   "metadata": {},
   "source": [
    "# Lab 4, Radio Communication Via a Computer Interface, Part I\n",
    "\n",
    "Now that you have gotten your radio and radio interfaces, we are ready to experiment with them. In this part of the lab we will learn how to use the interface and the radio, make sure that everything is working correctly so that you will be able to make progress on the second part as well as the project. It is important that you start early, since there may be some technical difficulties you may encounter. \n",
    "\n",
    "\n",
    "<center><img src=\"./radio_interface.jpg\" alt=\"gsm\" style=\"width: 400px;\"/></center>\n",
    "<center>Figure 1: The radio computer interface </center>\n",
    "\n",
    "The interface you got connects the radio to the sound extension of your Pi through two audio cables. You will send and receive audio from your radio, and you will be able to key the radio from your python script using one of the General Purpose IO (GPIO) pins. The interface also has a ground-loop isolation box. It has two audio transformers that prevent voltage potential from your Pi to get to the radio. The isolation box has a Kenwood style audio connector with a 2.5mm and 3.5mm audio Jack that connects to your Baofeng radio. \n",
    "\n",
    "<center><img src=\"./radio_attenuator.jpg\" alt=\"gsm\" style=\"width: 400px;\"/></center>\n",
    "<center>Figure 2: Connect RF attenuator between the radio and its antenna to prevent RF interference.</center>\n",
    "\n",
    "\n",
    "\n",
    "This radio has two power output settings, 4 Watts and low-power 2 Watts. A short press on the # key will toggle between notmal and low-power. You will see the letter \"L\" on the screen in low-power mode. Normal power can easily make contacts over 5-35Miles range -- depending on the terrain. With 2W, you can make contacts over 2-10 Miles. \n",
    "\n",
    "In the following lab experiments, the radio is physically very close to our Pi/sound extension and audio interface. The transmitted RF energy could easily couple to the audio cables and cause RF interference with the circuits-- even at low-power. To prevent that, we provide you with 6db (facrot of 4) RF attenuators, that you will need to install between the radio and its antenna shown in Fig.2). Please keep the attenuator on the radio throughout this lab, but don't forget to remove it immediately when you are done. The RF attenuator attenuate both transmission and reception. In addition, the RF attenuator is only rated to 2Watts. Transmitting with 4 Watts through the attenuator can damage it. Please make sure that you are always operating at low-power 2 Watts mode (small \"L\" on the screen)\n"
   ]
  },
  {
   "cell_type": "markdown",
   "metadata": {},
   "source": [
    "\n",
    "**Starting:**\n",
    "\n",
    "* Turn the radio on, Choose one of the experimental channels (71-98) in the programmed channels on your radio, preferably a UHF one (75-98). Make sure that the channel is not occupied by listeing to it for a minute or so. \n",
    "* Before you start transmitting, you must identify with your call sign and that you intend to use this channel for performing experiments\n",
    "* Connect the audio interface to the radio and to the sound extension of your Pi\n",
    "* Make sure in alsamixer settings that the volume is properly set to prevent overloading the radio input and that both input and output are not on mute. \n",
    "* Make sure the output volume on the radio is reasonable to prevent overloading of the interface. Turning clockwise when the radio is off for 1/4 of a turn works well for me. \n",
    "\n",
    "**During operation:**\n",
    "\n",
    "* If the green light on the radio turns on frequently, it means that someone is transmitting on your channel. In that case, switch to a different one. \n",
    "* If the red light turns on, the radio is transmitting. If it is not supposed to, then something got messed up with the sound extension that affects proper radio triggering. It's probably went AWOL due to RF interference. Turn off the radio and reboot the Raspberry Pi with ```sudo reboot```. Turn on the radio and run the code again.\n",
    "* Announce your callsign every 10 minutes\n",
    "* Make sure that the antenna is not close to the audio cable and is as orthogonal as possible to it  -- this will prevent RF to get into the audio interface. \n",
    "* Sometimes, the sound extension will stop working due to RF overloading. To prevent that, put your radio further away as possible from the interface.\n",
    "* Use low-power mode, and in addition, put on the RF attenuator. \n",
    "\n",
    "**Finishing:**\n",
    "\n",
    "* Sign off with your call sign\n",
    "\n",
    "** RF interference from radio transmission that makes the sound extension fail is \\#1 cause of technical issues in this lab. If that happens **\n",
    "* Make sure the antenna is not aligned with any cable\n",
    "* Make sure the radio is far as possible from the interface\n",
    "* Put your radio on a shelf or elevated\n",
    "* Ask us for more Ferrite beeds to put on your cables. \n",
    "* For this lab, remove the antenna from the SDR -- since you will be transmitting really close to the SDR, you don't want to overload the receiver.  \n",
    "\n"
   ]
  },
  {
   "cell_type": "code",
   "execution_count": null,
   "metadata": {},
   "outputs": [],
   "source": [
    "# set up alsamixer volumes for the raspberry pi\n",
    "\n",
    "!amixer -c 1 -- sset 'Capture Mux' 'LINE_IN'\n",
    "!amixer -c 1 -- sset Lineout playback unmute\n",
    "!amixer -c 1 -- sset Lineout playback  50%,50%\n",
    "!amixer -c 1 -- sset Mic capture  67%\n",
    "!amixer -c 1 -- sset Mic playback  59%\n"
   ]
  },
  {
   "cell_type": "code",
   "execution_count": null,
   "metadata": {},
   "outputs": [],
   "source": [
    "# Import functions and libraries\n",
    "\n",
    "import numpy as np\n",
    "import matplotlib.pyplot as plt\n",
    "import pyaudio, threading,time, sys, threading,time, serial\n",
    "import queue as Queue\n",
    "from numpy import pi, sin, zeros, r_\n",
    "from scipy import signal\n",
    "from rtlsdr import RtlSdr\n",
    "import sounddevice as sd\n",
    "import RPi.GPIO as GPIO\n",
    "%matplotlib inline"
   ]
  },
  {
   "cell_type": "markdown",
   "metadata": {},
   "source": [
    "Let's first define the spectrogram function, which we will use later in the lab"
   ]
  },
  {
   "cell_type": "code",
   "execution_count": null,
   "metadata": {},
   "outputs": [],
   "source": [
    "# function to compute average power spectrum\n",
    "def avgPS( x, N=256, fs=1):\n",
    "    M = (len(x)//N)\n",
    "    x_ = np.reshape(x[:M*N],(M,N)) * np.hamming(N)[None,:]\n",
    "    X = np.fft.fftshift(np.fft.fft(x_,axis=1),axes=1)\n",
    "    return r_[-N/2.0:N/2.0]/N*fs, np.mean(abs(X)**2,axis=0)\n",
    "\n",
    "\n",
    "# Plot an image of the spectrogram y, with the axis labeled with time tl,\n",
    "# and frequency fl\n",
    "#\n",
    "# t_range -- time axis label, nt samples\n",
    "# f_range -- frequency axis label, nf samples\n",
    "# y -- spectrogram, nf by nt array\n",
    "# dbf -- Dynamic range of the spect\n",
    "\n",
    "def sg_plot( t_range, f_range, y, dbf = 60, fig = None) :\n",
    "    eps = 10.0**(-dbf/20.0)  # minimum signal\n",
    "    \n",
    "    # find maximum\n",
    "    y_max = abs(y).max()\n",
    "    \n",
    "    # compute 20*log magnitude, scaled to the max\n",
    "    y_log = 20.0 * np.log10( (abs( y ) / y_max)*(1-eps) + eps )\n",
    "    \n",
    "    # rescale image intensity to 256\n",
    "    img = 256*(y_log + dbf)/dbf - 1\n",
    "    \n",
    "    fig=plt.figure(figsize=(16,6))\n",
    "    \n",
    "    plt.imshow( np.flipud( 64.0*(y_log + dbf)/dbf ), extent= t_range  + f_range ,cmap=plt.cm.gray, aspect='auto')\n",
    "    plt.xlabel('Time, s')\n",
    "    plt.ylabel('Frequency, Hz')\n",
    "    plt.tight_layout()\n",
    "    \n",
    "    return fig\n",
    "\n",
    "\n",
    "def myspectrogram_hann_ovlp(x, m, fs, fc,dbf = 60):\n",
    "    # Plot the spectrogram of x.\n",
    "    # First take the original signal x and split it into blocks of length m\n",
    "    # This corresponds to using a rectangular window %\n",
    "    \n",
    "    \n",
    "    isreal_bool = np.isreal(x).all()\n",
    "    \n",
    "    # pad x up to a multiple of m \n",
    "    lx = len(x);\n",
    "    nt = (lx + m - 1) // m\n",
    "    x = np.append(x,zeros(-lx+nt*m))\n",
    "    x = x.reshape((m//2,nt*2), order='F')\n",
    "    x = np.concatenate((x,x),axis=0)\n",
    "    x = x.reshape((m*nt*2,1),order='F')\n",
    "    x = x[r_[m//2:len(x),np.ones(m//2)*(len(x)-1)].astype(int)].reshape((m,nt*2),order='F')\n",
    "    \n",
    "    \n",
    "    xmw = x * np.hanning(m)[:,None];\n",
    "    \n",
    "    \n",
    "    # frequency index\n",
    "    t_range = [0.0, lx / fs]\n",
    "    \n",
    "    if isreal_bool:\n",
    "        f_range = [ fc, fs / 2.0 + fc]\n",
    "        xmf = np.fft.fft(xmw,len(xmw),axis=0)\n",
    "        sg_plot(t_range, f_range, xmf[0:m//2,:],dbf=dbf)\n",
    "        print (1)\n",
    "    else:\n",
    "        f_range = [-fs / 2.0 + fc, fs / 2.0 + fc]\n",
    "        xmf = np.fft.fftshift( np.fft.fft( xmw ,len(xmw),axis=0), axes=0 )\n",
    "        sg_plot(t_range, f_range, xmf,dbf = dbf)\n",
    "    \n",
    "    return t_range, f_range, xmf"
   ]
  },
  {
   "cell_type": "markdown",
   "metadata": {},
   "source": [
    "## Audio I/O\n",
    "\n",
    "We will use the sounddevice python package for audio. "
   ]
  },
  {
   "cell_type": "markdown",
   "metadata": {},
   "source": [
    "### Testing the  Audio:\n",
    "\n",
    "The first test/example would be to see if we can capture audio from the radio and play it on the raspberry pi.\n",
    "\n",
    "* Connect the audio interface to the radio and to the sound extension of your Pi. Connect ```RX AUDIO TO PC``` to ```LINE IN``` and ```TX AUDIO FROM PC``` to ```LINE OUT```\n",
    "* Connect the speaker to the builtin audio output of the raspberry pi.\n",
    "* On the radio, press on the orange button to switch to FM radio mode. Tune to 94.1 KPFA. Set the volume at quarter of a turn. You can also tune to NOAA Weather 162.400MHz. Alternatively, you can also tune to the SPLXCAL frequency (ch4 or 146:430MHz on your radio) and ask a friend to transmit to you to see if you can hear the result through the speakers. \n",
    "* The following code records the audio that is coming out of the radio into the sound extension and plays it on the computer built-in speakers. Study it! It will be very usefull in the future. \n",
    "\n",
    "#### An important feature in this task is that you will have a method to check if the incoming signal is being clipped. Remember the settings for which the signal maximum is 0.6.  This would be VERY useful in the communications part of the lab"
   ]
  },
  {
   "cell_type": "markdown",
   "metadata": {},
   "source": [
    "The following command will list the audio devices on your pi. You should see:\n",
    "```\n",
    " 0 bcm2835 ALSA: - (hw:0,0), ALSA (0 in, 2 out)\n",
    "  1 bcm2835 ALSA: IEC958/HDMI (hw:0,1), ALSA (0 in, 2 out)\n",
    "  2 Fe-Pi Audio: - (hw:1,0), ALSA (2 in, 2 out)\n",
    "  3 sysdefault, ALSA (0 in, 128 out)\n",
    "  4 dmix, ALSA (0 in, 2 out)\n",
    "* 5 default, ALSA (2 in, 2 out)\n",
    "```\n",
    "You may see something slightly different than the above. \n",
    "But, if you don't see a USB device, then it means that the USB audio is not connected or is not functioning. "
   ]
  },
  {
   "cell_type": "code",
   "execution_count": null,
   "metadata": {},
   "outputs": [],
   "source": [
    "sd.query_devices()\n"
   ]
  },
  {
   "cell_type": "markdown",
   "metadata": {},
   "source": [
    "Manually set the audio device numbers. \n",
    "\n",
    "builtin_idx should be the bcm2835 ALSA, but not the one with HDMI\n",
    "\n",
    "usb_idx should be the USB audio\n"
   ]
  },
  {
   "cell_type": "code",
   "execution_count": null,
   "metadata": {},
   "outputs": [],
   "source": [
    "builtin_idx = 0\n",
    "USB_idx = 2"
   ]
  },
  {
   "cell_type": "code",
   "execution_count": null,
   "metadata": {},
   "outputs": [],
   "source": [
    "# set default sample rate and number of channels. \n",
    "\n",
    "sd.default.samplerate=48000\n",
    "sd.default.channels = 1"
   ]
  },
  {
   "cell_type": "code",
   "execution_count": null,
   "metadata": {},
   "outputs": [],
   "source": [
    "# this callback function will play captured data \n",
    "# it will be called by the soundevice stream and run in a different thread\n",
    "\n",
    "def replay_callback(indata,outdata, frames, time, status):\n",
    "    if status:\n",
    "        print(status)\n",
    "    outdata[:] = indata  # the [:] is important so data is copied not referenced !\n",
    "    \n",
    " \n",
    "# create stream\n",
    "# Will record from device 5 and play through device 3 \n",
    "st = sd.Stream(device=(USB_idx,builtin_idx),callback=replay_callback)\n",
    "\n",
    "\n",
    "# start stream -- will run in background till stopped\n",
    "st.start()\n",
    "\n",
    "# sleep 15 seconds\n",
    "time.sleep(15)\n",
    "\n",
    "# stop and close stream -- must stop and close for clean exit\n",
    "\n",
    "st.stop()\n",
    "st.close()"
   ]
  },
  {
   "cell_type": "markdown",
   "metadata": {},
   "source": [
    "#### If you cannot hear the audio from the radio, adjust the volume knob on the radio to raise the volume until you hear it."
   ]
  },
  {
   "cell_type": "markdown",
   "metadata": {},
   "source": [
    "The following callback will do exactly the same thing as before. The only difference is that the received audio will be pushed to a Queue so we can process it outside of the callback function. Default block-sizes are 512 samples, which is about 10ms worth of samples. \n",
    "\n",
    "We will capture just over 10 seconds, about 1000 blocks. The samples from the queue will be processed. We will compute the maximum signal and the root-mean-square (RMS) for each block. This will let us see if the signal is being clipped. "
   ]
  },
  {
   "cell_type": "code",
   "execution_count": null,
   "metadata": {},
   "outputs": [],
   "source": [
    "def queuereplay_callback(indata,outdata, frames, time, status):\n",
    "    if status:\n",
    "        print(status)\n",
    "    outdata[:] = indata\n",
    "    Qin.put( indata )  # Global queue\n"
   ]
  },
  {
   "cell_type": "code",
   "execution_count": null,
   "metadata": {},
   "outputs": [],
   "source": [
    "\n",
    "# create an input FIFO queue\n",
    "Qin = Queue.Queue()\n",
    "\n",
    "st = sd.Stream( device=(USB_idx, builtin_idx),callback=queuereplay_callback)\n",
    "\n",
    "st.start()\n",
    "\n",
    "# record and play about 10.6 seconds of audio 1000*512/48000 = 10.6 s\n",
    "mxpwr = zeros(1000)\n",
    "rmspwr = zeros(1000)\n",
    "\n",
    "for n in range(0,1000):\n",
    "    \n",
    "    samples = Qin.get()\n",
    "    mxpwr[n] = max(abs(samples))\n",
    "    rmspwr[n] = np.sqrt(np.sum(np.square(samples)))\n",
    "    # You can add code here to do processing on samples in chunks of 512 samples\n",
    "    # In general, you will have to implement an overlap and add, or overlap an save to get\n",
    "    # continuity between chunks -- we will do this later!\n",
    "    \n",
    "st.stop()\n",
    "st.close()\n",
    "\n",
    "# empty queue just in case there's something left\n",
    "while not(Qin.empty()) :\n",
    "    samples=Qin.get()\n"
   ]
  },
  {
   "cell_type": "markdown",
   "metadata": {},
   "source": [
    "* The code also displays the RMS power and Maximum audio signal for each 512 samples block -- so you can see if it is clipped, or too weak."
   ]
  },
  {
   "cell_type": "code",
   "execution_count": null,
   "metadata": {},
   "outputs": [],
   "source": [
    "fig = plt.figure(figsize=(16,4))\n",
    "t = r_[0:1000]*512/48000\n",
    "plt.plot(t,mxpwr)\n",
    "plt.plot(t,rmspwr/np.sqrt(512))\n",
    "plt.title('Maximum/RMS power')\n",
    "plt.legend(('Max signal','rms power'))\n",
    "\n",
    "if any(mxpwr > 0.95):\n",
    "    print(\"Warning! Signal is clipped. Reduce radio volume, and/or usb device input volume\")\n",
    "if max(mxpwr) < 0.3:\n",
    "    print(\"Audio Volume may be too low. Increase the volume on the radio for better lab performance\")"
   ]
  },
  {
   "cell_type": "markdown",
   "metadata": {},
   "source": [
    "Make sure you set the volume such that the peak is not higher than 0.8"
   ]
  },
  {
   "cell_type": "markdown",
   "metadata": {},
   "source": [
    "### Testing  Radio Transmit control\n",
    "\n",
    "The next step is to test if the PTT control using the general purpose IO pins (GPIO) on the Raspberry Pi\n",
    "\n",
    "* Follow the preparation steps listed in the beginning of the document (identify your callsign and announce testing)\n",
    "* Pick an experimental channel 71-98\n",
    "* Set the power of the radio to low if it's not set already (short press the # key. shows up as a small 'L')\n",
    "\n",
    "* Connect the jumper cables from the interface to the GPIO pins. Connect the ground to Pin number 9, and the other to pin number 16. \n",
    "(Although there are other open GPIO pins for triggering, we choose pin 16 to avoid using pins that occupied by the sound extension board.)\n",
    "<center><img src=\"./pinout.jpg\" alt=\"gsm\" style=\"width: 400px;\"/></center>\n",
    "<center>Figure 2: Raspberry pi pinout</center>\n",
    "\n",
    "The following code generates a series of 10 short key-on, key off. To key the radio, you need to set the DTR pin of the USB to serial device to '1' and to stop keying set it back to '0'  \n",
    "\n",
    "If the red light turns on and off, you are good to go!\n",
    "\n",
    "\n",
    "## WARNING: This is where things may fail due to RF interference. If your radio does not stop transmitting, turn off the radio and reboot the Pi. Look above for tips for solving interference problems. **"
   ]
  },
  {
   "cell_type": "code",
   "execution_count": null,
   "metadata": {},
   "outputs": [],
   "source": [
    "GPIO.cleanup()\n",
    "GPIO.setmode(GPIO.BOARD)"
   ]
  },
  {
   "cell_type": "code",
   "execution_count": null,
   "metadata": {},
   "outputs": [],
   "source": [
    "\n",
    "PTT = 16\n",
    "GPIO.setup(PTT, GPIO.OUT, initial = 0)\n",
    "\n",
    "for n in range(0,10):\n",
    "    GPIO.output(PTT, GPIO.HIGH)\n",
    "    time.sleep(0.25)\n",
    "    GPIO.output(PTT, GPIO.LOW)\n",
    "    time.sleep(0.25)\n",
    "\n"
   ]
  },
  {
   "cell_type": "markdown",
   "metadata": {},
   "source": [
    "# Transmitting Audio from the Pi to the radio\n",
    "\n",
    "\n",
    "\n",
    "Below is a code that: \n",
    "- keys the radio\n",
    "- plays a 2KHz tone for 2 second\n",
    "- unkeys the radio\n",
    "- keys the radio and plays a 1kHz tone for 2 seconds \n",
    "- unkeys the radio.\n",
    "\n",
    "Use a friend's radio or the SDR (with Gqrx) to make sure you hear the audio. \n"
   ]
  },
  {
   "cell_type": "code",
   "execution_count": null,
   "metadata": {},
   "outputs": [],
   "source": [
    "\n",
    "\n",
    "# generate sinusoids\n",
    "t = r_[0:2*48000]/48000\n",
    "sig1 = 0.5*sin(2*pi*2000*t)\n",
    "sig2 = 0.5*sin(2*pi*1000*t)\n",
    "\n",
    "GPIO.output(PTT, GPIO.HIGH) # Key radio\n",
    "time.sleep(0.1) #give radio time to start\n",
    "# play audiodio on the sound extension. When blocking is True, then this will run in the foreground\n",
    "sd.play(sig1,device=USB_idx,  blocking=True)  \n",
    "GPIO.output(PTT, GPIO.LOW)\n",
    "\n",
    "time.sleep(0.5)\n",
    "\n",
    "GPIO.output(PTT, GPIO.HIGH)\n",
    "time.sleep(0.1) #give radio time to start\n",
    "sd.play(sig2,samplerate=48000,device=USB_idx,  blocking=True)\n",
    "GPIO.output(PTT, GPIO.LOW)\n",
    "\n",
    "\n"
   ]
  },
  {
   "cell_type": "markdown",
   "metadata": {},
   "source": [
    "### Calibrating the Input Audio level to the radio using Radio transmission and reception with the SDR. \n",
    "\n",
    "The audio input to the radio is filtered in the radio by a bandpass filter, which passes frequencies roughly between 500Hz and 4KHz. The input filter also emphasizes the high frequencies with approximately 6db per decade up to 3000Hz. \n",
    "\n",
    "In later parts of the lab, we will send audio to the radio which encodes digital data. It is important that we have a way to set the right level of outputs such that there's no overdriving and clipping of the signal. \n",
    "\n",
    "In this task, we will transmit a pure audio tone with increasing amplitude, receive and demodulate with the SDR and determine the amplitude in which the signal is still \"Well behaved\" and not clipped or have non-linearities. \n",
    "\n",
    "How will it work: \n",
    "* We will generate a tone with increasing amplitudes in python\n",
    "* The audio interface will convert it to an analog signal -- acting as an DAC.\n",
    "* The radio will filter the input with its bandpass filter\n",
    "* The radio will FM modulate the signal with $\\pm7.5$KHz deviation at the chosen center frequency and transmit the FM signal.\n",
    "* The SDR will capture samples around that center frequency\n",
    "* You will implement a carrier squelche that would crop the samples corresponding to the transmission.\n",
    "* you will FM demodulate the signal by implementing a low-pass filter, limiter, discriminator similarly to lab 3. \n",
    "* You will then look at the amplitude of the received tone. The amplitude should increase linearly at first, then taper off and saturate. You need to figure out what are the audio amplitude values in the linear regime. The range of volumes you will get will correspond to the range of audio signals with your audio settings that will not be distorted!\n",
    "\n",
    "#### Setup\n",
    "* Connect the SDR to a USB port on the Pi.\n",
    "* Disconnect the antenna from the SDR -- the signal will be stong anyways and we don't want to saturate the SDR. \n",
    "* Place the radio as far away from the SDR as possible to minimize interference\n",
    "* Set your radio to one of the experimental channel on the radio (channels 71-98) with low-power. It's recommended to use the UHF channels 75-98 first-- but if they are occupied use the VHF.\n",
    "\n",
    "\n",
    "#### Pre-Task:  Setting the gain of the SDR and calibrating the frequency\n",
    "\n",
    "It is important to know that even though we set a transmit and receive frequency, the frequency the radio is transmitting, and the frequency the SDR is receiving may not be exactly the same. This is because the crystal oscillator on the radio is rated to about 1ppm, and the SDR is rated to about 70ppm deviation.  \n",
    "Before we start, we would like to make sure that the SDR frequency is calibrated to the radio (both may have some offset). We would also like to adjust the gain of the SDR, so it is not under/overdriven by the radio. \n",
    "\n",
    "For this, we only need to key the radio and receive using the SDR. This will transmit a carrier at the center frequency. We will look at the spectrum to see the offset between the transmitted frequency and the received one. We will then calibrate the offset of the SDR with respect to the radio. The SDR has a parameter \"ppm\" for prescribing known frequency offsets.\n",
    "\n",
    "We will also look at the magnitude signal to see if its clipped. \n",
    "\n",
    "* Acquire 2 seconds of data while the radio is being keyed\n",
    "* Plot the amplitude of the signal.  Make sure the amplitude of the signal is > 0.25, and < 0.75, if not, change the gain of the SDR or move the SDR away from the radio\n",
    "* Plot the average power specrum, or the spectrogram, and calculate the offset frequency. Find its approximate frequency offset in parts-per-millon (ppm). \n",
    "* Repeat the above till the magnitude of the signal is within range and its frequency is centered. \n",
    "* Record the sdr gain and the ppm shift. You will need to use it later.\n",
    "\n",
    "\n"
   ]
  },
  {
   "cell_type": "code",
   "execution_count": null,
   "metadata": {},
   "outputs": [],
   "source": [
    "\n",
    "\n",
    "# Setup SDR\n",
    "fs_sdr = 240000\n",
    "fc = 443.610e6   # set your frequency!\n",
    "ppm =           # 1 recommend\n",
    "gain =          # 14.4 recommend\n",
    "\n",
    "\n",
    "\n",
    "sdr = RtlSdr()\n",
    "sdr.sample_rate = fs_sdr    # sampling rate\n",
    "sdr.gain = gain\n",
    "sdr.center_freq = fc\n",
    "sdr.freq_correction = ppm\n",
    "\n",
    "# start transmitting\n",
    "GPIO.output(PTT, GPIO.HIGH)\n",
    "y = sdr.read_samples(256000)\n",
    "# stop transmitting\n",
    "GPIO.output(PTT, GPIO.LOW)\n",
    "print(sdr.valid_gains_db)\n",
    "sdr.close()\n",
    "\n"
   ]
  },
  {
   "cell_type": "code",
   "execution_count": null,
   "metadata": {},
   "outputs": [],
   "source": [
    "# Code to plot magnitude and compute frequency\n",
    "# Here:\n",
    "\n",
    "\n",
    "# Code to compute f0 -- the measured frequency of the carrier\n",
    "\n",
    "\n",
    "# set correction values\n",
    "ppmcalib = (int)(ppm - np.round(f0/fc*1000000))\n",
    "gaincalib = gain\n",
    "\n",
    "print('shift in Hz:', f0)\n",
    "print('shift in ppm:',ppmcalib)"
   ]
  },
  {
   "cell_type": "markdown",
   "metadata": {},
   "source": [
    "Now that the SDR frequency and gain are calibrated, let's start with the calibration of the audio level to the radio.\n",
    "\n",
    "#### Task\n",
    " \n",
    "* Generate a 2 seconds tone at 2200Hz. The tone amplitude should vary linearly from 0 to 1 throughut the 2 seconds.\n",
    "* Add 250ms worth of zeros in the beginning of the array.\n",
    "* Transmit the signal using the radio and simultaniously receive using the SDR for 3 seconds. \n",
    "* Plot the Spectrogram of the received signal. Do you see that the bandwidth is increasing?\n",
    "\n"
   ]
  },
  {
   "cell_type": "code",
   "execution_count": null,
   "metadata": {},
   "outputs": [],
   "source": [
    "# generate the tone\n",
    "\n",
    "\n",
    "\n",
    "# Setup SDR\n",
    "fs_sdr = 240000\n",
    "fc =    # set your frequency!\n",
    "\n",
    "sdr = RtlSdr()\n",
    "sdr.sample_rate = fs_sdr    # sampling rate\n",
    "sdr.gain = gaincalib\n",
    "sdr.center_freq = fc\n",
    "sdr.set_freq_correction(ppmcalib)\n",
    "\n",
    "\n",
    "\n",
    "\n",
    "GPIO.output(PTT, GPIO.HIGH)\n",
    "sd.play(sig,samplerate=48000,device=USB_idx,  blocking=False)\n",
    "\n",
    "\n",
    "\n",
    "# read samples from SDR\n",
    "y = sdr.read_samples(256000*3)\n",
    "\n",
    "# stop transmitting when done\n",
    "GPIO.output(PTT, GPIO.LOW)\n",
    "sdr.close()\n"
   ]
  },
  {
   "cell_type": "markdown",
   "metadata": {},
   "source": [
    "#### Task\n",
    "\n",
    "* Plot the magnitude of the receive signal, and pick a threshod to crop the samples corresponding to the transmission. \n",
    "* Again, make sure the amplitude of the signal is  > 0.25, and  < 0.75, if not, change the gain or move the SDR away from the radio\n",
    "* Crop the signal to the transmission part -- make sure you have  > 2 seconds of data"
   ]
  },
  {
   "cell_type": "code",
   "execution_count": null,
   "metadata": {},
   "outputs": [],
   "source": [
    "# your code here:\n",
    "\n"
   ]
  },
  {
   "cell_type": "markdown",
   "metadata": {},
   "source": [
    "#### Task\n",
    "* Plot the spectrogram. Make sure the signal is close to the center frequency, if not, adjust the frequency correction ppm accordingly. \n",
    "* Can you see the bandwidth increasing and then leveling? Why is that happening?\n"
   ]
  },
  {
   "cell_type": "code",
   "execution_count": null,
   "metadata": {},
   "outputs": [],
   "source": [
    "tt,ff,xmf = myspectrogram_hann_ovlp(y, 256, fs_sdr, 0 ,dbf = 60)\n",
    "\n"
   ]
  },
  {
   "cell_type": "markdown",
   "metadata": {},
   "source": [
    "#### Task\n",
    "* Low-pass filter with a bandwidth of 15KHz\n",
    "* Downsample by 10 to 24KHz effective sampling rate\n",
    "* FM - demosulate using the approach in Lab 3\n",
    "* plot the spectrogram of the demosulated signal.\n"
   ]
  },
  {
   "cell_type": "code",
   "execution_count": null,
   "metadata": {},
   "outputs": [],
   "source": [
    "# Your code here\n",
    "\n"
   ]
  },
  {
   "cell_type": "markdown",
   "metadata": {},
   "source": [
    "#### Task\n",
    "* Create narrow single side band bandpass filter by complex modulating a hanning window of length 513 to a center frequency around 2200Hz\n",
    "* Filter the demodulated signal and display its magnitude (use mode='same' to compensate for the filter delay)\n",
    "* You should see a linear ramp that when reaching maximum starts tapering and then becomes flat. Find the time in seconds it took from the beginning of the ramp till just before its starts to roll off. Divide that value by 2 and you've got yourself the maximum amplitude that results in a linear response!\n",
    "#### Save the value of the maximum amplitude that is linear!"
   ]
  },
  {
   "cell_type": "code",
   "execution_count": null,
   "metadata": {},
   "outputs": [],
   "source": [
    "%matplotlib notebook\n",
    "%matplotlib notebook\n",
    "\n",
    "# Your code here:\n",
    "\n"
   ]
  },
  {
   "cell_type": "code",
   "execution_count": null,
   "metadata": {},
   "outputs": [],
   "source": [
    "%matplotlib inline"
   ]
  },
  {
   "cell_type": "markdown",
   "metadata": {},
   "source": [
    "##### Measuring the Frequency Response of the Radio's Bandpass Audio Filter\n",
    "\n",
    "As mentioned earlier, the audio input to the radio is filtered by a bandpass filter. It also emphasizes the high frequencies with a filter of approximately 6db per decade. Because later we are going to use the audio interface to transmit data, we need to know how this data is going to be affected by the filter. Much like in Lab1, we will use a chirp signal to estimate the magnitude frequency response. We will trasmit with the radio and receive using the SDR.\n",
    "\n",
    "#### Task\n",
    "* Generate a chirp from 20Hz to 5KHz over 2 seconds\n",
    "* Use the amplitude you got from the previous part to scale your signal\n",
    "* Transmit using the radio, and record using the SDR\n",
    "* Crop based on amplidute, Filter, Decimate and FM demodulate. \n",
    "* Plot the spectrogram and the magnitude frequency response of the result\n"
   ]
  },
  {
   "cell_type": "code",
   "execution_count": null,
   "metadata": {},
   "outputs": [],
   "source": [
    "def genChirpPulse(Npulse, f0, f1, fs):\n",
    "    #     Function generates an analytic function of a chirp pulse\n",
    "    #     Inputs:\n",
    "    #             Npulse - pulse length in samples\n",
    "    #             f0     - starting frequency of chirp\n",
    "    #             f1     - end frequency of chirp\n",
    "    #             fs     - sampling frequency\n",
    "    \n",
    "    t1 = r_[0.0:Npulse]/fs\n",
    "    Tpulse = np.float32(Npulse) / fs \n",
    "    f_of_t = f0 + (t1) / Tpulse * (f1 - f0)\n",
    "    phi_of_t = 2*pi*np.cumsum(f_of_t)/fs\n",
    "    pulse = np.exp(1j* phi_of_t )\n",
    "    return pulse"
   ]
  },
  {
   "cell_type": "code",
   "execution_count": null,
   "metadata": {},
   "outputs": [],
   "source": [
    "# Transmit and record using the SDR\n",
    "\n",
    "\n",
    "#audio apmlitude from the previous section\n",
    "audio_amp = \n",
    "\n",
    "# generate the tone\n",
    "\n",
    "\n",
    "# Setup SDR\n",
    "\n",
    "\n"
   ]
  },
  {
   "cell_type": "code",
   "execution_count": null,
   "metadata": {},
   "outputs": [],
   "source": [
    "# Downsample and Demodulate the FM signal\n",
    "\n"
   ]
  },
  {
   "cell_type": "code",
   "execution_count": null,
   "metadata": {},
   "outputs": [],
   "source": [
    "#Plot the spectrogram and the average power spectrum \n"
   ]
  },
  {
   "cell_type": "markdown",
   "metadata": {},
   "source": [
    "Another way of estimating a frequency response is to trasmit white noise. White noise, much like its name has uniform energy throughout the spectrum. \n",
    "\n",
    "#### Task:\n",
    "* Generate 4 seconds @48.0KHz of white gaussian noise using `np.random.randn`\n",
    "* Scale the maximum amplitude to the value you found previously.\n",
    "* Transmit using the radio, and record using the SDR\n",
    "* Crop based on amplidute, Filter, Decimate and FM demodulate.\n",
    "* Plot the spectrogram \n",
    "\n",
    "In order to display a non-noisy spectrum, we will need to compute an average power spectrum. Use the function `avgPS` to do so.\n",
    "\n",
    "* Use a window side of 128 and Plot the square-root of the result of the positive frequencies. "
   ]
  },
  {
   "cell_type": "code",
   "execution_count": null,
   "metadata": {},
   "outputs": [],
   "source": [
    "# generate the noise with \n",
    "# your code here:\n",
    "\n",
    "\n",
    "\n",
    "\n",
    "\n",
    "\n",
    "\n",
    "\n",
    "\n",
    "\n",
    "# Your demodulation code\n",
    "\n",
    "\n",
    "\n",
    "\n",
    "\n",
    "\n",
    "\n",
    "\n",
    "\n",
    "\n",
    "\n",
    "\n",
    "\n",
    "# display spectrogram and average power spectrum \n",
    "\n",
    "\n"
   ]
  },
  {
   "cell_type": "code",
   "execution_count": null,
   "metadata": {},
   "outputs": [],
   "source": []
  },
  {
   "cell_type": "markdown",
   "metadata": {},
   "source": [
    "### Transmitting your callsign in Morse code\n",
    "\n",
    "The next step is to see if you can transmit something more meaningful. If you are going to transmit for the first time using a computer, you might as well transmit your callsign in Morse code!\n",
    "\n",
    "Morse code is composed of dots ( . dit) and dashes ( - dah). The timing is relative to a dot duration which is one unit long. A dah is three units long. Gap between dots and dashes within a character is one unit. A short gap between letters is three units and a gap between words is seven units.\n",
    "\n",
    "Here's a dictionary of Morse code:\n",
    "\n"
   ]
  },
  {
   "cell_type": "raw",
   "metadata": {},
   "source": [
    "def text2Morse(text,fc,fs,dt):\n",
    "    CODE = {'A': '.-',     'B': '-...',   'C': '-.-.', \n",
    "        'D': '-..',    'E': '.',      'F': '..-.',\n",
    "        'G': '--.',    'H': '....',   'I': '..',\n",
    "        'J': '.---',   'K': '-.-',    'L': '.-..',\n",
    "        'M': '--',     'N': '-.',     'O': '---',\n",
    "        'P': '.--.',   'Q': '--.-',   'R': '.-.',\n",
    "     \t'S': '...',    'T': '-',      'U': '..-',\n",
    "        'V': '...-',   'W': '.--',    'X': '-..-',\n",
    "        'Y': '-.--',   'Z': '--..',\n",
    "        \n",
    "        '0': '-----',  '1': '.----',  '2': '..---',\n",
    "        '3': '...--',  '4': '....-',  '5': '.....',\n",
    "        '6': '-....',  '7': '--...',  '8': '---..',\n",
    "        '9': '----.',\n",
    "\n",
    "        ' ': ' ', \"'\": '.----.', '(': '-.--.-',  ')': '-.--.-',\n",
    "        ',': '--..--', '-': '-....-', '.': '.-.-.-',\n",
    "        '/': '-..-.',   ':': '---...', ';': '-.-.-.',\n",
    "        '?': '..--..', '_': '..--.-'\n",
    "        }"
   ]
  },
  {
   "cell_type": "markdown",
   "metadata": {},
   "source": [
    "* Implement a function `sig = text2Morse(text, fc, fs,dt)`. The function will take a string and convert it to a tone signal that plays the morse code of the text. The function will also take 'fc' the frequency of the tones (800-900Hz sounds nice), 'fs' the sampling frequency and 'dt' the morse unit time (hence the speed, 50-75ms recommended).\n",
    "* Transmit your call sign! You can use this function to identify yourself before, during and after a transmission from now on.\n",
    "* Validate the code by capturing a spectrogram using the SDR\n",
    "\n"
   ]
  },
  {
   "cell_type": "code",
   "execution_count": null,
   "metadata": {},
   "outputs": [],
   "source": [
    "def text2Morse(text,fc,fs,dt):\n",
    "    CODE = {'A': '.-',     'B': '-...',   'C': '-.-.', \n",
    "        'D': '-..',    'E': '.',      'F': '..-.',\n",
    "        'G': '--.',    'H': '....',   'I': '..',\n",
    "        'J': '.---',   'K': '-.-',    'L': '.-..',\n",
    "        'M': '--',     'N': '-.',     'O': '---',\n",
    "        'P': '.--.',   'Q': '--.-',   'R': '.-.',\n",
    "     \t'S': '...',    'T': '-',      'U': '..-',\n",
    "        'V': '...-',   'W': '.--',    'X': '-..-',\n",
    "        'Y': '-.--',   'Z': '--..',\n",
    "        \n",
    "        '0': '-----',  '1': '.----',  '2': '..---',\n",
    "        '3': '...--',  '4': '....-',  '5': '.....',\n",
    "        '6': '-....',  '7': '--...',  '8': '---..',\n",
    "        '9': '----.',\n",
    "\n",
    "        ' ': ' ', \"'\": '.----.', '(': '-.--.-',  ')': '-.--.-',\n",
    "        ',': '--..--', '-': '-....-', '.': '.-.-.-',\n",
    "        '/': '-..-.',   ':': '---...', ';': '-.-.-.',\n",
    "        '?': '..--..', '_': '..--.-'\n",
    "        }\n",
    "    \n",
    "    Ndot= np.int32(1.0*fs*dt)\n",
    "    Ndah = 3*Ndot\n",
    "    \n",
    "    sdot = np.sin(2*pi*fc*r_[0.0:Ndot]/fs)\n",
    "    sdah = np.sin(2*pi*fc*r_[0.0:Ndah]/fs)\n",
    "    \n",
    "    # convert to dit dah\n",
    "    mrs = \"\"\n",
    "    for char in text:\n",
    "        mrs = mrs + CODE[char.upper()] + \"*\"\n",
    "    \n",
    "    sig = zeros(1)\n",
    "    for char in mrs:\n",
    "        if char == \" \":\n",
    "            sig = np.concatenate((sig,zeros(Ndot*7)))\n",
    "        if char == \"*\":\n",
    "            sig = np.concatenate((sig,zeros(Ndot*3)))\n",
    "        if char == \".\":\n",
    "            sig = np.concatenate((sig,sdot,zeros(Ndot)))\n",
    "        if char == \"-\":\n",
    "            sig = np.concatenate((sig,sdah,zeros(Ndot)))\n",
    "    return sig\n",
    "            \n",
    "    "
   ]
  },
  {
   "cell_type": "code",
   "execution_count": null,
   "metadata": {},
   "outputs": [],
   "source": [
    "\n",
    "fs = 240000\n",
    "fc = 443.610e6 \n",
    "sdr = RtlSdr()\n",
    "sdr.sample_rate = fs    # sampling rate\n",
    "sdr.gain = gaincalib\n",
    "sdr.center_freq = fc\n",
    "sdr.set_freq_correction(ppmcalib)\n",
    "\n",
    "\n",
    "\n",
    "\n",
    "\n",
    "\n",
    "callsign = text2Morse(\"KM6QHC\",850,48000,75e-3)*0.9\n",
    "callsign = np.concatenate((np.zeros(4800),callsign))                      \n",
    "GPIO.output(PTT, GPIO.HIGH)\n",
    "sd.play(callsign,samplerate=48000,device=5,  blocking=False)\n",
    "\n",
    "\n",
    "\n",
    "\n",
    "\n",
    "y = sdr.read_samples(256000*5)\n",
    "sdr.close()\n",
    "GPIO.output(PTT, GPIO.LOW)\n"
   ]
  },
  {
   "cell_type": "code",
   "execution_count": null,
   "metadata": {},
   "outputs": [],
   "source": [
    "tt,ff,xmf = myspectrogram_hann_ovlp(y, 512, fs, fc,dbf = 30)\n",
    "\n"
   ]
  },
  {
   "cell_type": "code",
   "execution_count": null,
   "metadata": {},
   "outputs": [],
   "source": []
  }
 ],
 "metadata": {
  "kernelspec": {
   "display_name": "Python 3",
   "language": "python",
   "name": "python3"
  },
  "language_info": {
   "codemirror_mode": {
    "name": "ipython",
    "version": 3
   },
   "file_extension": ".py",
   "mimetype": "text/x-python",
   "name": "python",
   "nbconvert_exporter": "python",
   "pygments_lexer": "ipython3",
   "version": "3.5.3"
  }
 },
 "nbformat": 4,
 "nbformat_minor": 1
}
