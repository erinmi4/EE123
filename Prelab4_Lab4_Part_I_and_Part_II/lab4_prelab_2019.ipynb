{
 "cells": [
  {
   "cell_type": "markdown",
   "metadata": {},
   "source": [
    "# 2019 Lab 4 prelab. Introduction to Digital Communications\n",
    "\n",
    "In this pre-lab you will be introduced to several modes of digital communications. We have written the solutions for you, however, you are more than welcome to download the empty notebook and implement the solutions yourself. \n",
    "\n",
    "## Analog Modulation\n",
    "In analog communications we encode continuous valued signals on top of a carrier frequency. Information can be encoded in the amplitude , for example: amplitude modulation (AM) or single sideband (SSB). It can also be encoded in the phase, for example: phase modulation or frequency modulation or encoded in both phase and amplitude. One of the issues with analog modulation is that you can never get the signal you are transmitting exactly recovered. It will always be contaminated by system imperfections, noise and other deviations. \n",
    "At the same time, analog communication offeres simple implementations as well as robustness because signals often degrade gracefully and information can still be extracted from them even with severe interferences and low signal to noise ratio.\n",
    "\n",
    "## Digital Modulation\n",
    "In contrast, in digital communications we transmit quantized digital data. Because the information is digital, this form of communications offers the advantage of a perfect reproduction of the transmitted signal. Much like analog communications, digital data can be encoded in many different ways using phase, amplitude and frequency. It can be encoded using a binary stream in which '0's and '1's are transmitted in each time interval. It can also be encoded with M-ary symbols, in which higher order symbols (for example 4-ary 0,1,2,3) are transmitted in each time interval. \n",
    "\n",
    "\n",
    "\n",
    "\n",
    "\n",
    "\n"
   ]
  },
  {
   "cell_type": "code",
   "execution_count": null,
   "metadata": {},
   "outputs": [],
   "source": [
    "# Import functions and libraries\n",
    "import numpy as np\n",
    "import matplotlib.pyplot as plt\n",
    "from numpy import r_, exp, cos, sin, pi, zeros, ones, hanning, sqrt, log, floor, reshape, mean\n",
    "from scipy import signal\n",
    "from numpy.fft import fft\n",
    "%matplotlib inline\n"
   ]
  },
  {
   "cell_type": "code",
   "execution_count": null,
   "metadata": {},
   "outputs": [],
   "source": [
    "# function to compute average power spectrum\n",
    "def avgPS( x, N=256, fs=1):\n",
    "    M = int(len(x)//N)\n",
    "    x_ = reshape(x[:M*N],(M,N)) * np.hamming(N)[None,:]\n",
    "    X = np.fft.fftshift(np.fft.fft(x_,axis=1),axes=1)\n",
    "    return r_[-N/2.0:N/2.0]/N*fs, mean(abs(X**2),axis=0)\n",
    "\n",
    "\n",
    "\n",
    "\n",
    "def sg_plot( t_range, f_range, y, dbf = 60) :\n",
    "    eps = 1e-3\n",
    "    \n",
    "    # find maximum\n",
    "    y_max = abs(y).max()\n",
    "    # compute 20*log magnitude, scaled to the max\n",
    "    y_log = 20.0 * np.log10( abs( y ) / y_max + eps )\n",
    "    \n",
    "    fig=plt.figure(figsize=(15,6))\n",
    "    \n",
    "    plt.imshow( np.flipud( 64.0*(y_log + dbf)/dbf ), extent= t_range  + f_range ,cmap=plt.cm.gray, aspect='auto')\n",
    "    plt.xlabel('Time, s')\n",
    "    plt.ylabel('Frequency, Hz')\n",
    "    plt.tight_layout()\n",
    "\n",
    "\n",
    "def myspectrogram_hann_ovlp(x, m, fs, fc,dbf = 60):\n",
    "    # Plot the spectrogram of x.\n",
    "    # First take the original signal x and split it into blocks of length m\n",
    "    # This corresponds to using a rectangular window %\n",
    "    \n",
    "\n",
    "    isreal_bool = np.isreal(x).all()\n",
    "    \n",
    "    # pad x up to a multiple of m \n",
    "    lx = len(x);\n",
    "    nt = (lx + m - 1) // m\n",
    "    x = np.append(x,zeros(-lx+nt*m))\n",
    "    x = x.reshape((m//2,nt*2), order='F')\n",
    "    x = np.concatenate((x,x),axis=0)\n",
    "    x = x.reshape((m*nt*2,1),order='F')\n",
    "    x = x[r_[m//2:len(x),ones(m//2)*(len(x)-1)].astype(int)].reshape((m,nt*2),order='F')\n",
    "    \n",
    "    \n",
    "    xmw = x * hanning(m)[:,None];\n",
    "    \n",
    "    \n",
    "    # frequency index\n",
    "    t_range = [0.0, lx / fs]\n",
    "    \n",
    "    if isreal_bool:\n",
    "        f_range = [ fc, fs / 2.0 + fc]\n",
    "        xmf = np.fft.fft(xmw,len(xmw),axis=0)\n",
    "        sg_plot(t_range, f_range, xmf[0:m//2,:],dbf=dbf)\n",
    "        print(1)\n",
    "    else:\n",
    "        f_range = [-fs / 2.0 + fc, fs / 2.0 + fc]\n",
    "        xmf = np.fft.fftshift( np.fft.fft( xmw ,len(xmw),axis=0), axes=0 )\n",
    "        sg_plot(t_range, f_range, xmf,dbf = dbf)\n",
    "    \n",
    "    return t_range, f_range, xmf"
   ]
  },
  {
   "cell_type": "markdown",
   "metadata": {},
   "source": [
    "### Example of Different Digital Modulations:\n",
    "\n",
    "In the following sections we will consider signals with a symbol-rate of 300 bauds (300b/s) with a carrier frequency of 1800Hz and a sampling rate of 48000. Each bit will correspond to 48000/300 = 160 samples. The carrier frequency was chosen such that there are exactly 6 cycles in a bit -- this is useful for the phase-based modulation schemes where we would like to have a continuous phase. "
   ]
  },
  {
   "cell_type": "code",
   "execution_count": null,
   "metadata": {},
   "outputs": [],
   "source": [
    "fs = 48000  # sampling rate\n",
    "baud = 300  # symbol rate\n",
    "Nbits = 256  # number of bits\n",
    "Ns = int(fs//baud)  # samples per symbol\n",
    "N = int(Nbits * Ns) # number of samples\n",
    "f0 = 1800 # center frequency\n",
    "\n",
    "Ndisp = 16    #number of bits to display\n",
    "np.random.seed(seed=1)\n",
    "bits = np.random.randn(Nbits,1) > 0"
   ]
  },
  {
   "cell_type": "markdown",
   "metadata": {},
   "source": [
    "#### Amplitude-Shift-Keying (ASK) or On-Off Keying (OOK) \n",
    "ASK/OOK encodes digital data in the amplitude of the carrier, $M(t)\\cos(2\\pi f_0t)$ where $M(t) = \\{0~or~1\\}$ for binary data. We saw such an example in the ADS-B mode S lab previously. M-ary digital data can also be encoded in the amplitude by dividing the amplitude into more segments. For example $M(r) = \\{0~or~0.33~or~0.66~or~1.0\\}$ for a 4-ary symbol. \n",
    "\n",
    "Here's an example of an OOK signal:"
   ]
  },
  {
   "cell_type": "code",
   "execution_count": null,
   "metadata": {},
   "outputs": [],
   "source": [
    "# Generate bits\n",
    "\n",
    "# create an impulsive signal\n",
    "message = np.zeros(N)\n",
    "message[::Ns] = bits.ravel()\n",
    "\n",
    "# convolve with a rect\n",
    "h = np.ones(Ns)\n",
    "message = signal.fftconvolve(message,h,mode='full')\n",
    "\n",
    "# modulate\n",
    "t = r_[0.0:len(message)]/fs\n",
    "OOK = message*sin(2*pi*f0*t)\n",
    "\n",
    "fig = plt.figure(figsize = (16,4))\n",
    "plt.plot(t[:Ndisp*Ns],OOK[:Ndisp*Ns])\n",
    "plt.xlabel('time [s]')\n",
    "plt.title('OOK signal of the sequence:'+ np.array2string(np.transpose(np.uint8(bits[:Ndisp]))));"
   ]
  },
  {
   "cell_type": "markdown",
   "metadata": {},
   "source": [
    "The approach of using OOK/ASK as above is not ideal. We can see this by plotting the spectrum\n",
    "\n",
    "* Compute the spectrum of the above ook signal using FFT, and plot its magnitude. \n",
    "* Comment on the spectrum. What is the issue that may arise if one would like to transmit at nearby frequencies?"
   ]
  },
  {
   "cell_type": "code",
   "execution_count": null,
   "metadata": {},
   "outputs": [],
   "source": [
    "(f,OOK_f) = avgPS(OOK,512,fs)\n",
    "\n",
    "fig = plt.figure(figsize = (16,4))\n",
    "plt.semilogy(f,abs(OOK_f)/max(abs(OOK_f)))\n",
    "plt.xlabel('frequency [Hz]')\n",
    "plt.title('Spectrum of an OOK signal ')\n",
    "plt.axis((0,4096,0,1));"
   ]
  },
  {
   "cell_type": "markdown",
   "metadata": {},
   "source": [
    "Instead of using rectangular pulses, we can use shaped pulses which have more narrowband frequency response.  For example, we could use sinc based pulses that would result in bandlimited spectrum. Of course it is not practical to use a sinc, since it is infinite in length. Instead we can use a truncated (windowed) sinc pulses with certain time bandwidth (TBW) product that would have a finite length as well as narrow bandness. While here we use a windowed sinc function as we learned in class, in the communications community the raised cosine filter is often used. A raised cosine  is a tapered sinc function (with parameter $0\\leq \\beta \\leq 1$) in which the impulse response and spectrum looks like*:\n",
    "<br>\n",
    "<center> <img src=\"./1200px-Raised-cosine-impulse.svg.png\" style=\"width: 470px; float: left\" style=\"float:left;\" \\> <img src=\"./1200px-Raised-cosine_filter.svg.png\" style=\"width: 470px; float: right\" \\> </center>\n",
    "\n",
    "<br><br><br>\n",
    "\n",
    "\n",
    "For more information about the raised cosine function look [here](http://www.commsys.isy.liu.se/TSKS04/lectures/3/MichaelZoltowski_SquareRootRaisedCosine.pdf)\n",
    "\n",
    "\n",
    "Now, going back to thinking in terms of the time-bandwidth product (TBW), the TBW of a rectangular pulse is 1, so for a symbol length of 1/300 seconds we get a bandwidth of 300 Hz (the main lobe full width at half the maximum) but lots of ripple. We could use a TBW = 2 pulse (like a hamming window or higher order pulses. \n",
    "\n",
    "* Using the random bit sequence chosen above, generate a new sequence with either zero or discrete impulses spaced fs/baud samples apart. For example a sequence of 1010 would have an impulse at position 0, an impulse at position 320 and zeros elsewhere\n",
    "* Generate a TBW = 4  windowed sinc pulse with zero-crossing occuring every 160 samples. \n",
    "* Convolve the sinc with the impulse train to generate a sinc OOK/ASK signal. \n",
    "* modulate the result to 1800Hz\n",
    "* Plot the signal and its spectrum\n",
    "* Comment on the separation between on and off.... what happened? Comment on the spectrum.\n",
    "\n",
    "*image sources: http://upload.wikimedia.org/wikipedia/commons/thumb/8/8b/Raised-cosine-impulse.svg/1200px-Raised-cosine-impulse.svg.png and http://upload.wikimedia.org/wikipedia/commons/thumb/a/a1/Raised-cosine_filter.svg/1200px-Raised-cosine_filter.svg.png"
   ]
  },
  {
   "cell_type": "code",
   "execution_count": null,
   "metadata": {},
   "outputs": [],
   "source": [
    "message = zeros(N)\n",
    "message[::Ns] = bits.ravel()\n",
    "\n",
    "h = signal.firwin(Ns*4,1.0/Ns) # Hamming window\n",
    "\n",
    "# Plot original message\n",
    "fig = plt.figure(figsize = (16,4))\n",
    "t = r_[0.0:len(message)]/fs\n",
    "plt.plot(t[:Ndisp*Ns],message[:Ndisp*Ns])\n",
    "plt.xlabel('time [s]')\n",
    "plt.title('Original sequence:'+ np.array2string(np.transpose(np.uint8(bits[:Ndisp]))))\n",
    "\n",
    "# Smooth message with window, h\n",
    "message = np.convolve(message,h,mode='same')\n",
    "fig = plt.figure(figsize = (16,4))\n",
    "plt.plot(t[:Ndisp*Ns],message[:Ndisp*Ns])\n",
    "plt.xlabel('time [s]')\n",
    "plt.title('Smoothed sequence:'+ np.array2string(np.transpose(np.uint8(bits[:Ndisp]))))\n",
    "\n",
    "OOK_hamm = message*sin(2*pi*f0*t)\n",
    "\n",
    "\n",
    "fig2 = plt.figure(figsize = (16,4))\n",
    "plt.plot(t[:Ndisp*Ns],OOK_hamm[:Ndisp*Ns])\n",
    "plt.xlabel('time [s]')\n",
    "plt.title('TBW=4 shaped OOK/ASK signal of the sequence:'+ np.array2string(np.transpose(np.uint8(bits[:Ndisp]))))\n",
    "\n",
    "(f,OOK_hf) = avgPS(OOK_hamm,512,fs)\n",
    "\n",
    "\n",
    "fig3 = plt.figure(figsize = (16,4))\n",
    "plt.semilogy(f,abs(OOK_hf)/max(abs(OOK_hf)))\n",
    "plt.xlabel('frequency [Hz]')\n",
    "plt.title('Spectrum of an pulse shaped OOK signal ')\n",
    "plt.axis((0,4096,0,1));"
   ]
  },
  {
   "cell_type": "markdown",
   "metadata": {},
   "source": [
    "# Comment on the separation between on and off.... what happened? Comment on the spectrum. Your answer here:"
   ]
  },
  {
   "cell_type": "markdown",
   "metadata": {},
   "source": [
    "#### Phase-shift-keying (PSK) \n",
    "PSK encodes digital data in the phase of the signal.  For example, Binary PSK (BPSK) sends a stream of '0's and '1's by alternating the sign of the carrier in each bit period: $Real \\left \\{ e^{j\\pi M(t)}\\cos(2\\pi f_0t) \\right \\}$, where $M(t)$ is a signal of $0~or~1$ corresponding to '0's and '1's. The RDS subcarrier in FM radio is BPSK encoded. Also, [PSK31](http://en.wikipedia.org/wiki/PSK31) is a very popular text-to-text ham radio protocol for HF that has 31b/s rate, which matches a typical keyboard typing rate. An M-ary symbol can be transmitted by MPSK in which $M(t)$ are broken to smaller intervals. For example in 4 PSK (QPSK) 0,1,2,4 are encoded in $M(t) = \\{0~or~0.5~or~1~or~1.5\\}$. It could also be encoded in a $45^\\circ$ rotated constellation $M(t) = \\{0.25~or~0.75~or~1.25~or~1.75\\}$ \n",
    "\n",
    "Here's an example of a BPSK signal:"
   ]
  },
  {
   "cell_type": "code",
   "execution_count": null,
   "metadata": {},
   "outputs": [],
   "source": [
    "message = zeros(N)\n",
    "message[::Ns] = 2*bits.ravel() - 1   #Makes the message +/- 1\n",
    "\n",
    "fig = plt.figure(figsize = (16,4))\n",
    "plt.plot(t[:Ns*Ndisp],message[:Ns*Ndisp])\n",
    "plt.xlabel('time [s]')\n",
    "plt.title('exp[j\\piM(t)]:'+ np.array2string(np.transpose(np.uint8(bits[:Ndisp]))))\n",
    "\n",
    "# Convolve\n",
    "h = np.ones(Ns)\n",
    "message = signal.fftconvolve(message,h,mode='full')\n",
    "t = r_[0.0:len(message)]/fs\n",
    "BPSK = message*sin(2*pi*f0*t)\n",
    "\n",
    "fig = plt.figure(figsize = (16,4))\n",
    "plt.plot(t[:Ns*Ndisp],BPSK[:Ns*Ndisp])\n",
    "plt.xlabel('time [s]')\n",
    "plt.title('BPSK signal of the sequence:'+ np.array2string(np.transpose(np.uint8(bits[:Ndisp]))))"
   ]
  },
  {
   "cell_type": "markdown",
   "metadata": {},
   "source": [
    "One of the advantages of PSK is that the envelope of the signal is constant. This means that we don't have to use linear amplifiers (also called class A or AB) in order to amplify the signal for transmission. Instead we can use the much more efficient non-linear amplifiers (class C or E). However, the problem is of course that the phase has a discontinuity. This will have an effect on the spectrum. \n",
    "\n",
    "* Compute the spectrum of the above BPSK signal. Comment on the spectrum"
   ]
  },
  {
   "cell_type": "code",
   "execution_count": null,
   "metadata": {},
   "outputs": [],
   "source": [
    "f = r_[0:len(BPSK)/2.0]/len(BPSK)*fs\n",
    "\n",
    "(f,BPSK_f) = avgPS(BPSK,512,fs)\n",
    "\n",
    "\n",
    "\n",
    "fig = plt.figure(figsize = (16,4))\n",
    "plt.semilogy(f,abs(BPSK_f)/max(BPSK_f))\n",
    "plt.xlabel('frequency [Hz]')\n",
    "plt.title('Spectrum of a BPSK signal ')\n",
    "plt.axis((0,4096,0,1));"
   ]
  },
  {
   "cell_type": "markdown",
   "metadata": {},
   "source": [
    "We can use the same \"trick\" as before and shape the pulses with a windowed sinc function. \n",
    "\n",
    "* Repeat the procedure for the case of BPSK similarly to the shaped ASK/OOK as before. However instead of a zero-one pulse train use a $\\pm 1$ train to get the changes in phase. \n",
    "* What did we win and what did we lose?  Comment on the spectrum the symbol leakage and the envelope of the signal."
   ]
  },
  {
   "cell_type": "code",
   "execution_count": null,
   "metadata": {},
   "outputs": [],
   "source": [
    "message = zeros(N)\n",
    "message[::Ns] = 2*bits.ravel() - 1\n",
    "t = r_[0.0:len(message)]/fs  #Time vector\n",
    "\n",
    "\n",
    "\n",
    "# Repeat the computation of the BPSK signal, but use the trick from before to to shape the pulses.\n",
    "# Your final signal should be called BPSK_s.\n",
    "# Your code here:\n",
    "\n",
    "BPSK_s = \n",
    "\n",
    "fig = plt.figure(figsize = (16,4))\n",
    "plt.plot(t[:Ndisp*Ns],BPSK_s[:Ndisp*Ns])\n",
    "plt.xlabel('time [s]')\n",
    "plt.title('TBW=4 shaped BPSK signal of the sequence:'+ np.array2string(np.transpose(np.uint8(bits[:Ndisp]))))\n",
    "\n",
    "\n",
    "(f,BPSK_sf) = avgPS(BPSK_s,512,fs)\n",
    "\n",
    "\n",
    "\n",
    "fig = plt.figure(figsize = (16,4))\n",
    "plt.semilogy(f,abs(BPSK_sf)/max(BPSK_sf))\n",
    "plt.xlabel('frequency [Hz]')\n",
    "plt.title('Spectrum of a pulse shaped BPSK signal ')\n",
    "plt.axis((0,4096,0,1));"
   ]
  },
  {
   "cell_type": "markdown",
   "metadata": {},
   "source": [
    "# What did we win and what did we lose? Comment on the spectrum the symbol leakage and the envelope of the signal. Your answer here:"
   ]
  },
  {
   "cell_type": "markdown",
   "metadata": {},
   "source": [
    "#### Quadrature-Amplitude-Modulation (QAM)\n",
    "QAM encodes M-ary digital data in both the amplitude and phase, i.e., $Real \\left \\{ M(t)\\cos(2\\pi f_0t) \\right \\}$ where M(t) have an amplitude and phase that divides the complex plane into M segments. \n",
    "QAM is heavily used in cable TV and modems. You can see constellations of QAM-16 to QAM-256 which break the complex plane to $4\\times 4$ and $16\\times 16$ grids. \n",
    " \n",
    "Here's an image of the constallation of QAM-16:\n",
    "<center><img src=\"./QAM16.png\" style=\"width: 350px;\"/></center>\n",
    "<center>Figure 1: QAM-16 Constallation</center>\n"
   ]
  },
  {
   "cell_type": "code",
   "execution_count": null,
   "metadata": {},
   "outputs": [],
   "source": [
    "#code = { 2: -2+2j, 6: -1+2j, 14: 1+2j, 10: 2+2j,\n",
    "#        3: -2+1j, 7: -1-1j, 15: 1+1j, 11: 2+1j,\n",
    "#        1: -2-1j, 5: -1-1j, 13: 1-1j, 9: 2-1j,\n",
    "#        0: -2-2j, 4: -1-2j, 12: 1-2j, 8: 2-2j}\n",
    "Nbits = 16  # number of bits\n",
    "N = Nbits * Ns\n",
    "code = np.array((-2-2j, -2-1j,-2+2j,-2+1j,-1-2j,-1-1j,-1+2j,-1+1j,+2-2j,+2-1j,+2+2j,+2+1j,1-2j,+1-1j,1+2j,1+1j))/2\n",
    "np.random.seed(seed=1)\n",
    "bits = np.int16(np.random.rand(Nbits,1)*16) \n",
    "\n",
    "message = zeros(N, dtype='complex')\n",
    "message[::Ns] = code[bits].ravel()\n",
    "\n",
    "# Convolve\n",
    "h = np.ones(Ns)\n",
    "message = signal.fftconvolve(message,h,mode='full')\n",
    "t = r_[0.0:len(message)]/fs\n",
    "QAM = np.real(message*exp(1j*2*pi*f0*t))\n",
    "\n",
    "fig = plt.figure(figsize = (16,4))\n",
    "plt.plot(t[:Ns*Ndisp],QAM[:Ns*Ndisp])\n",
    "plt.xlabel('time [s]')\n",
    "plt.title(\"QAM=16 of the sequence:\"+ np.array2string(np.transpose(bits[:Ndisp])))"
   ]
  },
  {
   "cell_type": "markdown",
   "metadata": {},
   "source": [
    "QAM is a very efficient way to use the amplitude as well as the phase to encode M-ary symbols. \n",
    "\n",
    "* Compute the spectrum of the above QAM 16 signal. \n",
    "* Repeat the same for shaped TBW=4 pulses. \n",
    "* Is the bandwidth much different than the binary sequences? What is the bitrate improvement per bandwidth you get?"
   ]
  },
  {
   "cell_type": "code",
   "execution_count": null,
   "metadata": {},
   "outputs": [],
   "source": [
    "(f,QAM_f) = avgPS(QAM,512,fs)\n",
    "\n",
    "\n",
    "fig = plt.figure(figsize = (16,4))\n",
    "plt.semilogy(f,QAM_f/max(QAM_f))\n",
    "plt.xlabel('frequency [Hz]')\n",
    "plt.title('Spectrum of a QAM16 signal ')\n",
    "plt.axis((0,4096,0,1))\n",
    "\n",
    "\n",
    "message = zeros(N,dtype='complex')\n",
    "message[::Ns] = code[bits].ravel()\n",
    "\n",
    "h = signal.firwin(Ns*4,1.0/Ns)\n",
    "message = signal.fftconvolve(message,h,mode='full')\n",
    "t = r_[0.0:len(message)]/fs\n",
    "QAM_s = np.real(message*exp(1j*2*pi*f0*t))\n",
    "\n",
    "\n",
    "fig = plt.figure(figsize = (16,4))\n",
    "plt.plot(t[:Ns*Ndisp],QAM_s[:Ns*Ndisp])\n",
    "plt.xlabel('time [s]')\n",
    "plt.title('TBW=4 shaped QAM16 signal of the sequence:'+ np.array2string(np.transpose(bits[:Ndisp])))\n",
    "\n",
    "(f,QAM_sf) = avgPS(QAM_s,512,fs)\n",
    "\n",
    "\n",
    "fig = plt.figure(figsize = (16,4))\n",
    "plt.semilogy(f,QAM_sf/max(QAM_sf))\n",
    "plt.xlabel('frequency [Hz]')\n",
    "plt.title('Spectrum of a pulse shaped QAM16 signal ')\n",
    "plt.axis((0,4096,0,1));"
   ]
  },
  {
   "cell_type": "markdown",
   "metadata": {},
   "source": [
    "# Is the bandwidth much different than the binary sequences? What is the bitrate improvement per bandwidth you get? Your answers here:"
   ]
  },
  {
   "cell_type": "markdown",
   "metadata": {},
   "source": [
    "#### Frequency-Shift-Keying (FSK)\n",
    "FSK encodes digital data in the frequency of the carrier, i.e., $\\cos \\left(2\\pi (f_0 + M(t)\\Delta f)t\\right)$. For binary FSK (BFSK),  $M(t) =\\{1~or~-1\\}$. In M-ary FSK (MFSK) the frequency band can be broken to more segments. Again, much like PSK, FSK has also a constant envelope which makes it ideal for use with efficient non-linear amplifiers. \n",
    "\n",
    "The choice of frequencies has a huge impact on our ability to demodulate the signal as well as the bandwidth of it.  For example, we would like the frequencies to be orthogonal over a bit period so when detected using correlation we will ge the maximum difference between the results. We would also like the phase to be continuous for the sidelobes to decay rapidly and not interfere with nearby channels.  \n",
    "\n",
    "For example, the choice of frequencies of 1200Hz and 2400Hz below for a bitrate of 300 baud results in 4 and 8 cycles per bit period respectively. The outcome is a smooth phase and orthogonal frequencies. "
   ]
  },
  {
   "cell_type": "code",
   "execution_count": null,
   "metadata": {},
   "outputs": [],
   "source": [
    "np.random.seed(seed=1)\n",
    "Nbits = 256\n",
    "N = Nbits * Ns\n",
    "bits = np.random.randn(Nbits,1) > 0 \n",
    "M = np.tile(bits*2-1,(1,Ns))\n",
    "delta_f = 600\n",
    "\n",
    "\n",
    "# compute phase by integrating frequency\n",
    "ph = 2*pi*np.cumsum(f0 + M.ravel()*delta_f)/fs\n",
    "t = r_[0.0:N]/fs\n",
    "FSK = sin(ph)\n",
    "\n",
    "fig = plt.figure(figsize = (16,4))\n",
    "plt.plot(t[:Ns*Ndisp],M.ravel()[:Ns*Ndisp])\n",
    "plt.xlabel('time [s]')\n",
    "plt.title('Message:'+ np.array2string(np.transpose(np.uint8(bits[:Ndisp]))))\n",
    "\n",
    "fig = plt.figure(figsize = (16,4))\n",
    "plt.plot(t[:Ns*Ndisp],FSK[:Ns*Ndisp])\n",
    "plt.xlabel('time [s]')\n",
    "plt.title('FSK signal of the sequence:'+ np.array2string(np.transpose(np.uint8(bits[:Ndisp]))))"
   ]
  },
  {
   "cell_type": "markdown",
   "metadata": {},
   "source": [
    "* Compute the spectrum of the above FSK signal. Can you see the frequencies?\n"
   ]
  },
  {
   "cell_type": "code",
   "execution_count": null,
   "metadata": {},
   "outputs": [],
   "source": [
    "(f,FSK_f) = avgPS(FSK,512,fs)\n",
    "\n",
    "\n",
    "\n",
    "fig = plt.figure(figsize = (16,4))\n",
    "plt.semilogy(f,FSK_f/max(FSK_f))\n",
    "plt.xlabel('frequency [Hz]')\n",
    "plt.title('Spectrum of a FSK signal ')\n",
    "plt.axis((0,4096,0,1))"
   ]
  },
  {
   "cell_type": "markdown",
   "metadata": {},
   "source": [
    "The reason the frequencies are separated well is the low bit-rate.\n",
    "For the same choice of frequencies we can increase the baud (i.e. the bit-rate) and still get continuous phase and orthogonal frequencies. For example: with a 600 baud we will get 2 cycles for 1200Hz and 4 cycles for 2400Hz per bit period. We can continue further for 1200baud which results in 1cycle/2cycle for 1200Hz/2400Hz. \n",
    "\n",
    "Finally, the highest rate in which we can get orthogonal frequencies is 2400 baud. In that case, we will have 1/2 a cycle at 1200Hz and 1 cycle for 2400Hz. The phase will still be continuous and the frequencies orthogonal.  This form of FSK modulation is also called Minimum-Shift-Keying (MSK) and is generalized to the case where the frequency difference is half the bit-rate.\n",
    "\n",
    "* What would be the choice of frequencies for a 300 baud MSK centered at 1800Hz?\n",
    "* Generate the MSK-300 modulation of the above signal.\n",
    "* Plot the signal as well as its spectrum and spectrogram For the spectrogram use 148 window (which is approximately the bit length). Comment on the bandwidth of the signal compared to the BFSK above."
   ]
  },
  {
   "cell_type": "code",
   "execution_count": null,
   "metadata": {},
   "outputs": [],
   "source": [
    "delta_f = 150\n",
    "ph = 2*pi*np.cumsum(f0 + M.ravel()*delta_f)/fs\n",
    "t = r_[0.0:N]/fs\n",
    "MSK = sin(ph)\n",
    "\n",
    "fig = plt.figure(figsize = (16,4))\n",
    "plt.plot(t[:Ns*Ndisp],MSK[:Ns*Ndisp])\n",
    "plt.xlabel('time [s]')\n",
    "plt.title('MSK signal of the sequence:'+ np.array2string(np.transpose(np.uint8(bits[:Ndisp]))))\n",
    "\n",
    "(f,MSK_f) = avgPS(MSK,512,fs)\n",
    "\n",
    "\n",
    "\n",
    "fig = plt.figure(figsize = (16,4))\n",
    "plt.semilogy(f,MSK_f/max(MSK_f))\n",
    "plt.xlabel('frequency [Hz]')\n",
    "plt.title('Spectrum of a MSK signal ')\n",
    "plt.axis((0,4096,0,1))\n",
    "tt,ff,xmf = myspectrogram_hann_ovlp(MSK, 148, 48000.0, 0,dbf = 20)\n",
    "plt.title('Spectrogram of MSK')\n"
   ]
  },
  {
   "cell_type": "markdown",
   "metadata": {},
   "source": [
    "# Comment on the bandwidth of the signal compared to the BFSK above:\n",
    "\n",
    "\n"
   ]
  },
  {
   "cell_type": "markdown",
   "metadata": {},
   "source": [
    "MSK is a very efficient modulation with constant envelope and a narrow bandwidth. However its sidelobes are still prohibitly high for application like cellphone networks. The sidelobes can be further reduce by prefiltering the frequency transition by a smoothing filter. A very common filter is a gaussian filter. When a gaussian filter is used, the modulation is called GMSK. This is the modulation that is used for GSM networks. Much like the other modulations, filtering reduces the sidelobes, but increase the inter-symbol interference. \n",
    "\n",
    "The Gaussian filter used in GMSK is defined as:\n",
    "$$ h(t) = \\sqrt{\\frac{2\\pi}{\\mathrm{log} 2}} \\cdot BW \\mathrm{exp}\\left(-\\frac{2\\pi^2(BW)^2}{\\mathrm{log}2}t^2\\right), $$ \n",
    "where BW is determined by the time-bandwidth product (TBW) and the duration of the gaussian pulse, which is $\\frac{T_b}{TBW}$ -- where $T_b$ is the bit time-period.  \n",
    "\n",
    "In the discrete case, where $f_s$ is the sampling frequency \n",
    "$$ h[n] = \\sqrt{\\frac{2\\pi}{\\mathrm{log} 2}} \\cdot \\frac{BW}{f_s} \\mathrm{exp}\\left(-\\frac{2\\pi^2}{\\mathrm{log}2}\\frac{(BW)^2}{f_s^2}n^2\\right). $$ \n",
    "\n",
    "* Generate a TBW=0.5 gaussian filter over a 2bit time period. What is the bandwitdh?\n",
    "* Plot the filter. \n",
    "* Filter the frequency of the MSK signal above using the gaussian filter.  Integrate to generate the phase to generate the  modulated signal as above. \n",
    "* Plot the signal and its spectrum. Comment on the result. Does the spectrum have less sidelobes? \n",
    "* Explain why the spectrum looks like it is and compare to the spectrogram.  "
   ]
  },
  {
   "cell_type": "code",
   "execution_count": null,
   "metadata": {},
   "outputs": [],
   "source": [
    "\n",
    "TBW =0.5\n",
    "Tb = 294\n",
    "B = Tb*TBW\n",
    "n = r_[-Tb/2:Tb/2]\n",
    "h = sqrt(2*pi/log(2))*B/fs*exp(-2*pi*pi*B*B*n*n/fs/fs/log(2))\n",
    "t = r_[0.0:N]/fs\n",
    "\n",
    "freq = np.convolve(f0 + M.ravel()*delta_f,h,'same')\n",
    "\n",
    "fig = plt.figure(figsize=(16,4))\n",
    "plt.plot(t[:Ns*Ndisp],freq[:Ns*Ndisp],t[:Ns*Ndisp],1700*M.ravel()[:Ns*Ndisp])\n",
    "plt.title('Smoothed frequency')\n",
    "plt.legend(['Smoothed frequency modulation','message'])\n",
    "\n",
    "ph = 2*pi*np.cumsum(freq)/fs\n",
    "\n",
    "GMSK = sin(ph)\n",
    "\n",
    "t = r_[0.0:len(GMSK)]/fs\n",
    "fig = plt.figure(figsize = (16,4))\n",
    "plt.plot(t[:Ns*Ndisp],GMSK[:Ns*Ndisp])\n",
    "plt.xlabel('time [s]')\n",
    "plt.title('GMSK signal of the sequence:'+ np.array2string(np.transpose(np.uint8(bits[:Ndisp]))))\n",
    "\n",
    "(f,GMSK_f) = avgPS(GMSK[Ns:-Ns],512,fs)\n",
    "\n",
    "fig = plt.figure(figsize = (16,4))\n",
    "plt.semilogy(f,GMSK_f/max(GMSK_f))\n",
    "plt.xlabel('frequency [Hz]')\n",
    "plt.title('Spectrum of a GMSK signal ')\n",
    "plt.axis((0,4096,0,1))\n",
    "\n",
    "tt,ff,xmf = myspectrogram_hann_ovlp(GMSK[:Ns*Ndisp], 160, 48000.0, 0,dbf = 30)\n",
    "plt.axis((0, .05, 0, 5000))\n",
    "plt.title('Spectrogram of GMSK (first 16 bits)')\n",
    "\n"
   ]
  },
  {
   "cell_type": "code",
   "execution_count": null,
   "metadata": {},
   "outputs": [],
   "source": [
    "fig = plt.figure(figsize = (16,4))\n",
    "tt,ff,xmf = myspectrogram_hann_ovlp(GMSK, 160, 48000.0, 0,dbf = 30)\n",
    "plt.title('Full spectrogram of GMSK')"
   ]
  },
  {
   "cell_type": "code",
   "execution_count": null,
   "metadata": {},
   "outputs": [],
   "source": []
  },
  {
   "cell_type": "code",
   "execution_count": null,
   "metadata": {},
   "outputs": [],
   "source": []
  }
 ],
 "metadata": {
  "kernelspec": {
   "display_name": "Python 3",
   "language": "python",
   "name": "python3"
  },
  "language_info": {
   "codemirror_mode": {
    "name": "ipython",
    "version": 3
   },
   "file_extension": ".py",
   "mimetype": "text/x-python",
   "name": "python",
   "nbconvert_exporter": "python",
   "pygments_lexer": "ipython3",
   "version": "3.5.3"
  }
 },
 "nbformat": 4,
 "nbformat_minor": 2
}
