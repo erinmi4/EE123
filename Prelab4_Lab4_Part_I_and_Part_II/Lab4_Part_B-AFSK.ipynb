{
 "cells": [
  {
   "cell_type": "markdown",
   "metadata": {},
   "source": [
    "# Lab 4 Part II: Digital Communication with Audio Frequency Shift Keying (AFSK)\n",
    "\n",
    "In this part of the lab we are going to experiment with digital modulation and communication. Network Communication systems have layered architecture. The bottom layer is the physical which implements the modulation. In this lab we will experiment Audio-Frequency-Shift-Keying [AFSK](http://en.wikipedia.org/wiki/Frequency-shift_keying), which is a form of Binary-Frequency-Shift-Keying (BFSK) in the audio range (hence the 'A').  In the lab we will implement a modulator/demodulator for AFSK.  \n",
    "\n",
    "In Part II of the lab we will leverage [AX.25](http://www.tapr.org/pub_ax25.html), which is an amateur-radio data-link layer protocol. [AX.25](http://www.tapr.org/pub_ax25.html) is a packet based protocol that will help us transmit data using packets. It implements basic synchronization, addressing, data encapsulation and some error detection.  In the ham world, an implementation of AFSK and [AX.25](http://www.tapr.org/pub_ax25.html)  together is also called a [TNC ( Terminal Node Controller )](http://en.wikipedia.org/wiki/Terminal_node_controller). In the past TNC's were separate boxes that hams used to attach to their radios to communicate with packet-based-communication. Today, it is easy to implement TNC's in software using the computer's soundcard.... as you will see here! \n",
    "\n",
    "\n"
   ]
  },
  {
   "cell_type": "code",
   "execution_count": null,
   "metadata": {},
   "outputs": [],
   "source": [
    "\n",
    "# Import functions and libraries\n",
    "import numpy as np\n",
    "from numpy import r_\n",
    "import matplotlib.pyplot as plt\n",
    "from matplotlib.pyplot import figure, plot, title,stem, loglog, xlabel, ylabel\n",
    "import bitarray, time, urllib, ssl\n",
    "from scipy import signal, integrate\n",
    "from math import gcd\n",
    "from functools import reduce\n",
    "from numpy.random import rand, randn\n",
    "from numpy import ones,zeros, pi, cos, exp, sign\n",
    "%matplotlib inline"
   ]
  },
  {
   "cell_type": "code",
   "execution_count": null,
   "metadata": {},
   "outputs": [],
   "source": [
    "# function to compute least common multipler\n",
    "def lcm(numbers):\n",
    "    return reduce(lambda x, y: (x*y)//gcd(x,y), numbers, 1)\n",
    "\n",
    "# function to compute average power spectrum\n",
    "def avgPS( x, N=256, fs=1):\n",
    "    M = (len(x)//N)\n",
    "    x_ = np.reshape(x[:M*N],(M,N)) * np.hamming(N)[None,:]\n",
    "    X = np.fft.fftshift(np.fft.fft(x_,axis=1),axes=1)\n",
    "    return r_[-N/2.0:N/2.0]/N*fs, np.mean(abs(X)**2,axis=0)\n",
    "\n"
   ]
  },
  {
   "cell_type": "markdown",
   "metadata": {},
   "source": [
    "## AFSK1200, or Bell 202 modem\n",
    "\n",
    "AFSK1200 encodes digital binary data at a data-rate of 1200b/s. It uses the frequencies 1200Hz and 2200Hz ( center frequency of $1700$Hz $\\pm 500$ Hz) to encode the '0's and '1's (also known as space and mark) bits.  Even though it has a relatively low bit-rate it is still the dominant standard for amateure packet radio over VHF. It is a common physical layer for the AX.25 packet protocol and hence a physical layer for the  Automatic Packet Reporting System (APRS),  which we will describe later. \n",
    "\n",
    "The exact analytic frequency spectrum of a general FSK signal is difficult to obtain. But, when the mark and space frequency difference $\\Delta f$ is much larger than the bit-rate, $B$,  then the bandwidth of FSK is approximately $2\\Delta f + B$. This is not exactly the case for AFSK1200 where the spacing between the frequencies is 1000Hz and the bit-rate is 1200 baud.\n",
    "\n",
    "<center><img src=\"AFSK.png\" alt=\"AFSK\" style=\"width: 350px;\"/></center>\n",
    "<center>Figure 1: Approximate spectrum of AFSK</center>\n",
    "\n",
    "Note, that for the (poor) choice of 1200/2200Hz for frequencies, a synchronous phase (starting each bit with the same phase) is not going to be continuous because at 1200 bit rate the 2200Hz tone is not completing full two cycles (a choice of 2400 would have been ideal!... but this is the standard we are forced to use for compatability with other systems). For the Bandwidth to be narrow, it is important that the phase in the modulated signal is continuous. Any discontinuity in the phase will result in high frequency. For this reason, AFSK1200 has to be generated in the following way:\n",
    "$$ s(t) = cos\\left(2\\pi f_c t + 2\\pi \\Delta f \\int_{-\\infty}^t m(\\tau)d\\tau \\right),$$\n",
    "where $m(t)$ has the value =1 for a duration of a mark bit, and a value =-1 for a duration of a space bit. Such $m(t)$ signal is called an Non-Return-to-Zero (NRZ) signal in the digital communication jargon.  Here's a link to some [notes](http://www.dip.ee.uct.ac.za/~nicolls/lectures/eee482f/13_fsk_2up.pdf) provided by Fred Nicolls from the university of Cape Town.\n",
    "\n",
    "The integration guarentees that the phase is continuous. In addition, the instantaneous frequency of $s(t)$ is the derivative of its phase, $2\\pi f_c + 2\\pi \\Delta f m(t)$, which is exactly what we need. "
   ]
  },
  {
   "cell_type": "markdown",
   "metadata": {},
   "source": [
    "#### Taks 1\n",
    "\n",
    "* Write a function `sig = afsk1200(bits,fs)` the function will take a bitarray (bitarray is a python module for storing array of bits) of bits, and a sampling rate.  It will output an AFSK1200 modulated signal of them, sampled at fs [Hz]. **Note that Mark frequency is 1200Hz and Space Frequency is 2200Hz**. \n",
    "\n",
    "* Note, that when `fs` does not divide by 1200, each \"bit\" will have non-integer length in samples. If you are not careful, this would lead to deviation from the right rate over time. To make sure that you produce signals that have the right rate over time generate the signal first at a rate of `lcm((1200,fs))`, the least common multiplier (which does divide by 1200) for the entire bit sequence and then downsample by the right value at the end. You don't necessarily need to low-pass filter, since the signal is narrow band anyways. \n",
    "\n",
    "* For integration, use the function integrate.cumtrapz, which implements the trapezoid method. "
   ]
  },
  {
   "cell_type": "code",
   "execution_count": null,
   "metadata": {},
   "outputs": [],
   "source": [
    "def afsk1200(bits, fs = 48000):\n",
    "    # the function will take a bitarray of bits and will output an AFSK1200 modulated signal of them, sampled at fs Hz\n",
    "    #  Inputs:\n",
    "    #         bits  - bitarray of bits\n",
    "    #         fs    - sampling rate\n",
    "    # Outputs:\n",
    "    #         sig    -  returns afsk1200 modulated signal samples at fs Hz\n",
    "    \n",
    "    # your code below:\n",
    "    \n",
    "    \n",
    "    \n",
    "    \n",
    "    \n",
    "    \n",
    "    \n",
    "    \n",
    "    return sig\n",
    "        \n",
    "              "
   ]
  },
  {
   "cell_type": "markdown",
   "metadata": {},
   "source": [
    "To help you debug, we generated a sequence of 4096 bits and its AFSK1200 encoded signals at sampling-rates of 8192Hz, 11025Hz, 44100Hz and 48000Hz. Compare the result of your function and make sure they match well. We assume that the phase at n=0 is zero (i.e., cosine modulation). Use the following code to load the data: "
   ]
  },
  {
   "cell_type": "code",
   "execution_count": null,
   "metadata": {},
   "outputs": [],
   "source": [
    "# ------------- code we used to generate the bitstream and the signals ------------------\n",
    "#bits_ref=bitarray.bitarray((rand(4096)>0.5).tolist())\n",
    "#sig_ref8192 = afsk1200(bits_ref,fs = 8192)\n",
    "#sig_ref11025 = afsk1200(bits_ref,fs = 11025)\n",
    "#sig_ref44100 = afsk1200(bits_ref,fs = 44100)\n",
    "#sig_ref48000 = afsk1200(bits_ref,fs = 48000)\n",
    "#np.savez_compressed('debug_ref.npz', bits=bits_ref, sig_ref8192=sig_ref8192, sig_ref11025 = sig_ref11025,sig_ref44100=sig_ref44100, sig_ref48000=sig_ref48000)\n",
    "\n",
    "\n",
    "# Load the file from the class website\n",
    "#testfile = urllib.request.URLopener()\n",
    "#testfile.context = ssl._create_unverified_context()\n",
    "#%testfile.retrieve(\"https://inst.eecs.berkeley.edu/~ee123/sp16/lab/lab5/debug_ref.npz\", 'debug_ref.npz')\n",
    "\n",
    "testnpz = np.load('./debug_ref.npz')\n",
    "bytes_ref = bytes(testnpz['bits'])\n",
    "bits_ref = bitarray.bitarray()\n",
    "bits_ref.frombytes(bytes_ref)\n",
    "sig_ref8192 = testnpz['sig_ref8192']\n",
    "sig_ref11025 = testnpz['sig_ref11025']\n",
    "sig_ref44100 = testnpz['sig_ref44100']\n",
    "sig_ref48000 = testnpz['sig_ref48000']\n",
    "\n",
    "# Check that all the loaded signals align\n",
    "fig = figure(figsize=(16,4))\n",
    "plt.plot(r_[0.0:148]/8192,sig_ref8192[:148])\n",
    "plt.plot(r_[0.0:200]/11025,sig_ref11025[:200])\n",
    "plt.plot(r_[0.0:800]/44100,sig_ref44100[:800])\n",
    "plt.plot(r_[0.0:870]/48000,sig_ref48000[:870])\n",
    "plt.title('AFSK1200 with different sampling rates')\n",
    "plt.legend(('8192Hz','11024Hz','44100Hz', '48000Hz'))\n"
   ]
  },
  {
   "cell_type": "markdown",
   "metadata": {},
   "source": [
    "#### Task2 :\n",
    "\n",
    "Apply your function on the bitstream above with the different sampling rate. Validate that they match well:\n"
   ]
  },
  {
   "cell_type": "code",
   "execution_count": null,
   "metadata": {},
   "outputs": [],
   "source": [
    "# Validation code\n",
    "# bits_ref=bitarray.bitarray((rand(4096)>0.5).tolist())\n",
    "bytes_ref = bytes(testnpz['bits'])\n",
    "bits_ref = bitarray.bitarray()\n",
    "bits_ref.frombytes(bytes_ref)\n",
    "\n",
    "# Your validation code here:\n",
    "\n",
    "\n",
    "\n",
    "\n"
   ]
  },
  {
   "cell_type": "markdown",
   "metadata": {},
   "source": [
    "### Spectrum of AFSK1200\n",
    "\n",
    "We will now generate an AFSK modulated signal and compute its spectrum\n",
    "\n",
    "#### Task 3:\n",
    "* Generate a new sequence of 4096 random bits with equal probability, using the code     `bitarray.bitarray((rand(4096)>0.5).tolist())` \n",
    "* Generate the AFSK1200 signal at 12KHz \n",
    "* Compute the average power-spectrum with a spectral resolution of 10Hz (What's the window size?)\n",
    "* Display the result between 0 and 3KHz, using the command `plt.axis`\n",
    "* Does the spectrum looks like the one in Figure 2?\n",
    "\n"
   ]
  },
  {
   "cell_type": "code",
   "execution_count": null,
   "metadata": {},
   "outputs": [],
   "source": [
    "fs = 12000\n",
    "bits=bitarray.bitarray((rand(4096)>0.5).tolist())\n",
    "\n",
    "\n",
    "# Your code here:\n"
   ]
  },
  {
   "cell_type": "markdown",
   "metadata": {},
   "source": [
    "## AFSK1200 demodulation\n",
    "AFSK is a form of digital frequency modulation. As such, it can be demodulated like FM. However, this is not the best way to compute it in practice. For example, any tone interference between the mark and space frequency will break the demodulation.  \n",
    "\n",
    "Because AFSK alternates between two frequencies, we can place two bandpass filters around the frequency of the Mark and Space and use envelope detection to determine which frequency is active in a bit period. This is called a non-coherent AFSK demodulation, because the receiver phase does not need to be synced to the transmitter phase in order to demodulate the signal. The implementation we will use here is loosely based on on the one by Sivan Toledo (4X6IZ), a CS faculty in Tel-Aviv university who has written a nice article on a high-performance AX.25 modem, and also loosly based DireWolf, a multi-platform software TNC. You can find Sivan's article [Here](http://www.cs.tau.ac.il/~stoledo/Bib/Pubs/QEX-JulAug-2012.pdf), and Direwolf GitHub link [Here](https://github.com/wb2osz/direwolf). \n",
    "\n",
    "\n",
    "### Non-Coherent Demodulation of AFSK\n",
    "Here's a diagram of a non-coherent AFSK1200 demodulator that returns an NRZ signal:\n",
    "<br><br><br>\n",
    "<center><img src=\"AFSK_demod.png\" alt=\"AFSK\" style=\"width: 950px;\"/></center>\n",
    "<br>\n",
    "<center>Figure 3: AFSK1200 non-coherent demodulator</center>\n",
    "\n",
    "\n",
    "#### Task 4:\n",
    "\n",
    "In this part of the lab we will be using a sampling rate of 12KHz as as it divides well with 1200 (12000/1200=10 samples per bit). It is also ready to be easily played on the soundcard. \n",
    "As mentioned in the article, it is recommended to bandpass filter before processing  (900-2500Hz). This filter has no theoretical benefit for the case of random gaussian noise. But it still has some advantages when the noise and interferences are non-gaussian. We will not do it now, but will implement this later when we implement our modem.\n",
    "\n",
    "* Using signal.firwin, design a TBW=2 LP filter with a **(two-sided)** bandwidth of approximately 1200Hz (highest frequency 600Hz). It's easier if you choose the number of taps to be odd. (what's the length of the filter?)\n",
    "* From the LP filter gernerate two bandpass filters by complex modulating the LP filter to be centered around 1200Hz and 2200Hz respectively. \n",
    "* Filter the random stream of bits you generated previously using the two filters. \n",
    "\n",
    "The absolute value of the result represents the envelope of the filtered signal. The difference between the envelopes should represent the NRZ signal. \n",
    "\n",
    "* Plot the result of the envelope detection of the mark and space signals for the first 1200 samples on the same plot. Can you see how they switch?\n",
    "* Compute the \"analog\" NRZ signal by taking the difference between the mark and space envelopes. I refer to this as \"analog\" since it is not purely binary.\n",
    "* To implement the optional filter (Fig. 1), filter the NRZ signal, now, with a **low-pass filter**. Have the filter be the same length you used for the mark and spaces, only for its cuttoff frequency, set it to 1200*1.2 Hz. This is a balance between noise rejection and keeping the signal and helps a bit with detection in noise. \n",
    "* In a different plot, display the filtered NRZ for the first samples corresponding to 0.1 seconds. Can you see the bits?\n",
    "\n",
    "\n",
    "#### \\*\\*\\* How are parameters fine tuned? \n",
    "Well... the answer is complicated. There's theory and practice. From a theory point of view, we choose the right bandwidths and signal lengths. From a practical point of view, parameters can be tuned by testing performance over simulations and real-life experiments. For example, WA8IMF created a test CD for testing AFSK1200 modems. He recorded many minutes of APRS traffic in LA. Hardware TNC can usually decode 500-600 packets on these test CD's whereas optimized software TNCs can detect over 1000. Here's a [link](http://wa8lmf.net/TNCtest/) for the CD.\n",
    "\n",
    "After we implement our APRS receiver, you could play with parameters to improve yout packet decoding performance. \n",
    "\n"
   ]
  },
  {
   "cell_type": "code",
   "execution_count": null,
   "metadata": {},
   "outputs": [],
   "source": [
    "# Your code here:\n",
    "\n"
   ]
  },
  {
   "cell_type": "markdown",
   "metadata": {},
   "source": [
    "#### Task 5:\n",
    "* Extract the digital NRZ signal by computing the signum (`sign`) function of the \"analog\" NRZ. \n",
    "* The bit value is the value of the NRZ function in the middle of the bit period.  **Don't forget to compensate for the delay of the filters**, which is half the filter length, or use `mode='same'`. Decode the bits and store them as a `bitarray` type.\n",
    "* Plot 800 samples of the Digital NRZ. Overlay a stem plot on top of that at the indexes in which you sampled the bit values. Make sure as a sanity check that you actually sampled at the middle of the interval. Only show the plot for the first 20 bits. At 8.4KHz sampling and bit rate of 1200Hz, each bit is 7 samples long\n",
    "* Print the value of the first 100 decoded bits and compared to the encoded ones. Make sure they are exactly the same!\n"
   ]
  },
  {
   "cell_type": "code",
   "execution_count": null,
   "metadata": {},
   "outputs": [],
   "source": [
    "# your code here:\n",
    "\n",
    "\n",
    "\n",
    "\n",
    "# print the decoded bits compared to the transmitted bits\n",
    "\n",
    "\n",
    "\n",
    "\n",
    "bit_dec = bitarray.bitarray((NRZ[idx]>0).tolist())\n",
    "print(bit_dec[:100])\n",
    "print(bits[:100])"
   ]
  },
  {
   "cell_type": "markdown",
   "metadata": {},
   "source": [
    "#### Task 6:\n",
    "\n",
    "* Write a function NRZ = nc_afsk1200Demod(sig, fs=fs, TBW=TBW) that implements the above non-coherent demodulation and returns the \"analog\" NRZ (i.e. without rectifying it). "
   ]
  },
  {
   "cell_type": "code",
   "execution_count": null,
   "metadata": {},
   "outputs": [],
   "source": [
    "def nc_afsk1200Demod(sig, fs=48000.0, TBW=2.0):\n",
    "    #  non-coherent demodulation of afsk1200\n",
    "    # function returns the NRZ (without rectifying it)\n",
    "    # \n",
    "    # sig  - signal\n",
    "    # baud - The bitrate. Default 1200\n",
    "    # fs   - sampling rate in Hz\n",
    "    # TBW  - TBW product of the filters\n",
    "    #\n",
    "    # Returns:\n",
    "    #     NRZ \n",
    "    \n",
    "    # your code here:\n",
    "    \n",
    "    \n",
    "    \n",
    "    \n",
    "    \n",
    "    \n",
    "    \n",
    "    \n",
    "    \n",
    "    return NRZ\n"
   ]
  },
  {
   "cell_type": "markdown",
   "metadata": {},
   "source": [
    "### Bit Error Rate (BER)\n",
    "One way to evaluate the properties of a digital modulation scheme is to compute the bit-error-rate (BER) curves as a function of signal-to-noise ratio (SNR). The BER is the number of bit errors (received bits that have been altered due to decoding error) divided by the total number of transmitted bits. \n",
    "\n",
    "Let's calculate the BER for our AFSK demodulator:\n",
    "\n",
    "#### Task 7:\n",
    "* Generate a 10000 long random bitstream\n",
    "* AFSK1200 modulate the bitstream\n",
    "* Add random gaussian noise with a standard deviation of 1 to the afsk signal. \n",
    "* Demodulate  \n",
    "* Plot the first 640 samples of the output analog NRZ of the demodulation (64 bits at 12KHz), and overlay a stem plot with stems at the center of bits period -- look at the result. Can you see why digital communication is robust?\n",
    "* Compute the BER by comparing the bitstream before and after modulation/demodulation\n"
   ]
  },
  {
   "cell_type": "code",
   "execution_count": null,
   "metadata": {},
   "outputs": [],
   "source": [
    "#Your code here:\n",
    "\n",
    "\n",
    "\n",
    "# print the decoded bits compared to the transmitted bits\n",
    "\n",
    "\n",
    "bit_dec = bitarray.bitarray((NRZ[idx]>0).tolist())\n",
    "print(bit_dec[:64])\n",
    "print(bits[:64])"
   ]
  },
  {
   "cell_type": "code",
   "execution_count": null,
   "metadata": {},
   "outputs": [],
   "source": [
    "# plot code:\n",
    "\n",
    "\n"
   ]
  },
  {
   "cell_type": "code",
   "execution_count": null,
   "metadata": {},
   "outputs": [],
   "source": [
    "# Calculate BER:\n",
    "\n",
    "\n"
   ]
  },
  {
   "cell_type": "markdown",
   "metadata": {},
   "source": [
    "Your bit error rate should be around 0.1 will depend also on the quality of the reconstruction. You can try to repeat the experiment for different choices of filters if you like. "
   ]
  },
  {
   "cell_type": "markdown",
   "metadata": {},
   "source": [
    "### Computing BER curves\n",
    "\n",
    "BER curves are usually displayed in log log of the BER vs SNR. SNR is measured by energy per bit over noise power spectral density.\n",
    "Since we are just interested in the trend, we will plot the BER vs 1/noise standard deviation. \n",
    "\n",
    "To help you debug your code, we generated our own curves and saved the results. Your results should be similar to ours. \n",
    "\n",
    "#### Task 8:\n",
    "\n",
    "* Repeat the experiment for the range $\\sigma=$ np.array([0.2,0.25,0.3,0.35,0.4,0.5,0.65,0.8,1.0,1.5,2,2.6,3.5,5])\n",
    "* Use the function loglog to plot the BER as a function of 1/$\\sigma$. What's the BER at really low-SNR? What does it mean about the information the channel is carrying in low-SNR?\n",
    "* ** This code took 75seconds on my raspberry pi to run. Go get a drink....** "
   ]
  },
  {
   "cell_type": "code",
   "execution_count": null,
   "metadata": {},
   "outputs": [],
   "source": [
    "### Load our simulation result:\n",
    "testnpz = np.load('BER_ref.npz')\n",
    "BER_ref = testnpz['BER']\n",
    "sigma_vec = np.array([0.2,0.25,0.3,0.35,0.4,0.5,0.65,0.8,1.0,1.5,2,2.6,3.5,5])\n",
    "\n",
    "\n",
    "\n",
    "\n",
    "\n",
    "# Your code:\n",
    "\n",
    "\n",
    "\n",
    "\n",
    "\n",
    "\n",
    "\n",
    "\n",
    "\n",
    "\n",
    "\n",
    "# plot\n",
    "\n",
    "\n",
    "loglog(1/sigma_vec,BER_nc[:len(sigma_vec)])\n",
    "loglog(1/sigma_vec,BER_ref[:len(sigma_vec)],'r')\n",
    "\n",
    "plt.legend(('mine','Miki''s'))\n",
    "\n",
    "title(\"empirical BER for AFSK demodulation\")\n",
    "xlabel(\"SNR\")\n",
    "ylabel(\"BER\")\n",
    "\n",
    "\n",
    "\n",
    "\n",
    "\n"
   ]
  },
  {
   "cell_type": "markdown",
   "metadata": {},
   "source": [
    "### Timing Recovery\n",
    "\n",
    "One of the most important part of digital demodulation is the synchronization between the transmitter and receiver. We would like to sample the NRZ signal at the peak, which happens in the middle of the bit interval. However, we don't necessarily know when the transmitter starts sending the bits. There could also be some offset with the bit-rate between the transmitter and receiver due to the different clocks in the systems\n",
    "\n",
    "There are many ways to do this. For example, if there's a known preamble sequence we could look for, we can perform a match filtering with the known sequence to find the bit rate and synchronize to its start. \n",
    "\n",
    "Here we will use a simple, yet elegant solution, that was implemented in DireWolf, which uses a counter based phased-lock-loop (PLL). Here's a system diagram for the timing recovery (D is a sample delay):\n",
    "\n",
    "<center><img src=\"PLL.png\" alt=\"PLL\" style=\"width: 550px;\"/></center>\n",
    "<center>Figure 4: Timing Recovery</center>\n",
    "\n",
    "The idea is simple. For each incoming sample we advance a 32bit signed counter by $2^{32}/(f_s/baud)$. The counter will overflow exactly every $fs/baud$ samples, which is the number of bits per symbol. When overflow happens, we record the sign of the NRZ signal and output it. If the counter is synchronized to the NRZ signal, whenever there's a zero-crossing of the NRZ signal due to bit-sign change there also should be a zero-crossing of the counter and the counter should overflow in the middle of a symbol. \n",
    "\n",
    "So, in order to synchronize the PLL counter to the NRZ signal, whenever the NRZ signal has a zero-crossing, we will \"nudge\" the counter by multiplying it with $0<a<1$ to get it closer to zero. When the PLL is locked, the zero-crossings would match and the \"nudging\" would do nothing. When the PLL is not locked, then \"nudging\" would move the counter towards the right offset. This solution relies on the data not to have long sequences of the same bit value! As we will see later, APRS (and its underliying protocol AX.25) solved this by injecting bit transitions in a process called \"bit stuffing\". Also, before each packet, it is common to send a string of alternating values for helping receiver synchronization. \n",
    "\n",
    "The value of $a$ is of course a tradeoff. When $a$ is small, the PLL will lock fast, but would be sensitive to jitter due to noise. In that case, whenever the NRZ signal would have a zero-crossing the PLL would nudge a lot, and therefore be sensitive to noise as well.  When $a$ is closer to 1, the PLL will have less jitter, but would take more time to lock.  A value of $a=0.75$ seems to work well, to balance these two. \n",
    "\n",
    "#### Task 9:\n",
    "\n",
    "Write a function `idx = PLL(NRZa, a, fs = fs, baud=baud)`. \n",
    "\n",
    "The function should take as input a segment of an \"analog\" NRZ sequence, the \"nudge\" factor $a$, the sampling rate and the baud rate. It should return the indexes corresponding to the middle sampling points of symbols.\n",
    "\n",
    "* Python types don't allow for overflow, so when incrementing the counter, cast it to `int32`, to force overflow. "
   ]
  },
  {
   "cell_type": "code",
   "execution_count": null,
   "metadata": {},
   "outputs": [],
   "source": [
    "def PLL(NRZa, a = 0.74 , fs = 48000, baud = 1200):\n",
    "    # \n",
    "    # function implements a simple phased lock loop for tyming recovery\n",
    "    #\n",
    "    # Inputs:\n",
    "    #          NRZa -   The NRZ signal\n",
    "    #          a - nudge factor\n",
    "    #          fs - sampling rate (arbitrary)\n",
    "    #          baude  - the bit rate\n",
    "    #\n",
    "    # Outputs:\n",
    "    #          idx - array of indexes to sample at\n",
    "    #\n",
    "    \n",
    "    \n",
    "    # Your code here:\n",
    "    \n",
    "    \n",
    "    \n",
    "    \n",
    "    \n",
    "    \n",
    "    \n",
    "    return idx[]\n",
    "    "
   ]
  },
  {
   "cell_type": "markdown",
   "metadata": {},
   "source": [
    "The following code generates 4 packets of length 24. Each packet consistes of  1,0,1,0,1,0 training sequence followed by 18 bits. It also puts random spacings between packets as well as noise.\n",
    "\n",
    "To help you debug, we generated this packet, modulated, demodulated and computed the timing using our own implementation of the PLL.  You can use our data to see if your timings are correct. \n",
    "\n",
    "#### Task 10:\n",
    "* Run your PLL and this data with a=0.75\n",
    "* Plot the NRZa signal and overlay the sampling points that were returned by the PLL. Make sure the PLL works! You should see that the PLL will lock within very few bit lengths\n",
    "\n",
    "** Note that for our data, on the 2nd and 4th packets, the PLL takes 5 bit lengths to lock **\n"
   ]
  },
  {
   "cell_type": "code",
   "execution_count": null,
   "metadata": {},
   "outputs": [],
   "source": [
    "#bits=bitarray.bitarray([True,False,True,False,True, False]+(np.random.randn(24)>0).tolist())\n",
    "#sig = zeros(int32(np.random.rand(1)*200+200))\n",
    "#sig = concatenate((sig,afsk1200(bits, fs=48000)))\n",
    "\n",
    "#for n in range(0,3):\n",
    "#    bits=bitarray.bitarray([True,False,True,False, True, False]+(np.random.randn(18)>0).tolist())\n",
    "#    sig = concatenate((sig,zeros(int32(np.random.rand(1)*200+200)),afsk1200(bits, fs=48000)))\n",
    "#sig = sig + 0.1*np.random.randn(len(sig))\n",
    "#NRZ = nc_afsk1200Demod(sig, fs=48000)\n",
    "#idx  = PLL(NRZ, a=0.75)\n",
    "#np.savez_compressed('debug_pll1.npz', idx=idx, sig = sig, bits = bits, NRZ=NRZ)\n",
    "\n"
   ]
  },
  {
   "cell_type": "code",
   "execution_count": null,
   "metadata": {},
   "outputs": [],
   "source": [
    "testnpz = np.load('./debug_pll.npz')\n",
    "bits= testnpz['bits']\n",
    "sig = testnpz['sig']\n",
    "idx = testnpz['idx']\n",
    "NRZ = testnpz['NRZ']\n",
    "\n",
    "figure(figsize=(16,4))\n",
    "plot(NRZ)\n",
    "stem(idx,NRZ[idx.astype(int)])\n",
    "\n",
    "\n",
    "# Run your PLL on the NRZ and compare the idx you get with ours. They should be similar. \n",
    "\n",
    "\n",
    "\n"
   ]
  },
  {
   "cell_type": "code",
   "execution_count": null,
   "metadata": {},
   "outputs": [],
   "source": [
    "# your code for running your PLL Below here:\n",
    "\n",
    "\n",
    "\n",
    "\n"
   ]
  },
  {
   "cell_type": "markdown",
   "metadata": {},
   "source": [
    "### Timing Jitter\n",
    "\n",
    "Let's see the effect of the PLL nudging factor `a` on the timing jitter. \n",
    "\n",
    "#### Task 10:\n",
    "* Generate a sequence of 1000 random bits\n",
    "* Add random gaussian noise with standard deviation of 1\n",
    "* Modulate the signal using AFSK1200\n",
    "* Add 7 zero samples in the begining so the PLL will need to lock.\n",
    "\n",
    "Even though there's noise, the best sampling timing is every 40 samples ( fs=48000 ), because that's the original rate. If our PLL is insensitive to noise, then it should give us the right value all the time.\n",
    "\n",
    "* Used the PLL with $a=0.95$, to compute the indices of sampling points. Then, compute the finite difference in the indexes. Ideally, it should be 40 all the time.\n",
    "* Repeat the above for $a=0.75$, and $a=0.4$\n"
   ]
  },
  {
   "cell_type": "code",
   "execution_count": null,
   "metadata": {},
   "outputs": [],
   "source": [
    "# You get Task 11 for free:\n",
    "\n",
    "\n",
    "bits=bitarray.bitarray((np.random.randn(1000)>0).tolist())\n",
    "sig = afsk1200(bits, fs=48000)\n",
    "sig = sig + np.random.randn(len(sig))*1\n",
    "sig=np.concatenate((zeros(10),sig))\n",
    "NRZ = nc_afsk1200Demod(sig, fs=48000)\n",
    "idx1 = PLL(NRZ, a=0.95)\n",
    "idx2 = PLL(NRZ, a=0.75)\n",
    "idx3 = PLL(NRZ, a=0.4)\n",
    "\n",
    "\n",
    "\n",
    "fig = plt.figure(figsize=(16,2))\n",
    "plot(np.diff(idx1))\n",
    "title('Jitter for a=0.95')\n",
    "plt.axis((0,1000,20,50))\n",
    "fig2 = plt.figure(figsize=(16,2))\n",
    "plot(np.diff(idx2))\n",
    "plt.axis((0,1000,20,50))\n",
    "title('Jitter for a=0.75')\n",
    "fig3 = plt.figure(figsize=(16,2))\n",
    "plot(np.diff(idx3))\n",
    "plt.axis((0,1000,20,50))\n",
    "title('Jitter for a=0.4')"
   ]
  },
  {
   "cell_type": "markdown",
   "metadata": {},
   "source": [
    "Now, you are ready to move to the data-link layer"
   ]
  },
  {
   "cell_type": "code",
   "execution_count": null,
   "metadata": {},
   "outputs": [],
   "source": []
  }
 ],
 "metadata": {
  "kernelspec": {
   "display_name": "Python 3",
   "language": "python",
   "name": "python3"
  },
  "language_info": {
   "codemirror_mode": {
    "name": "ipython",
    "version": 3
   },
   "file_extension": ".py",
   "mimetype": "text/x-python",
   "name": "python",
   "nbconvert_exporter": "python",
   "pygments_lexer": "ipython3",
   "version": "3.5.3"
  },
  "toc": {
   "base_numbering": 1,
   "nav_menu": {},
   "number_sections": true,
   "sideBar": true,
   "skip_h1_title": false,
   "title_cell": "Table of Contents",
   "title_sidebar": "Contents",
   "toc_cell": false,
   "toc_position": {},
   "toc_section_display": true,
   "toc_window_display": false
  }
 },
 "nbformat": 4,
 "nbformat_minor": 1
}
