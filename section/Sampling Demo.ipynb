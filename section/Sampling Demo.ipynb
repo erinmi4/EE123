{
 "cells": [
  {
   "cell_type": "markdown",
   "metadata": {},
   "source": [
    "# Aliasing Demo\n",
    "### Written by Li-Hao Yeh Spring 2018"
   ]
  },
  {
   "cell_type": "code",
   "execution_count": null,
   "metadata": {},
   "outputs": [],
   "source": [
    "import numpy as np, matplotlib.pyplot as plt\n",
    "from matplotlib.pyplot import *\n",
    "from scipy import signal\n",
    "from numpy import *\n",
    "import sounddevice as sd\n",
    "%matplotlib inline"
   ]
  },
  {
   "cell_type": "markdown",
   "metadata": {},
   "source": [
    "## Sound sampling example"
   ]
  },
  {
   "cell_type": "code",
   "execution_count": null,
   "metadata": {
    "scrolled": false
   },
   "outputs": [],
   "source": [
    "\n",
    "fs = [72000, 24000, 12000, 8000, 6000]\n",
    "factor = [1, 3, 6, 10, 12]\n",
    "\n",
    "# Case 1: 5 kHz sampled with 72 kHz\n",
    "t1 = np.r_[0:2:(1/fs[0])]\n",
    "sig1 = np.sin(2*np.pi*5000*t1)\n",
    "\n",
    "w1, h1 = signal.freqz(sig1,worN=1024)\n",
    "w1 = w1 / np.pi * fs[0]/2\n",
    "\n",
    "# Case 2: 5 kHz sampled with 24 kHz\n",
    "t2 = np.r_[0:2:(1/fs[1])]\n",
    "sig2 = np.sin(2*np.pi*5000*t2)\n",
    "\n",
    "w2, h2 = signal.freqz(sig2,worN=1024)\n",
    "w2 = w2 / np.pi * fs[1]/2\n",
    "\n",
    "# Case 3: 5 kHz sampled with 12 kHz\n",
    "t3 = np.r_[0:2:(1/fs[2])]\n",
    "sig3 = np.sin(2*np.pi*5000*t3)\n",
    "\n",
    "w3, h3 = signal.freqz(sig3,worN=1024)\n",
    "w3 = w3 / np.pi * fs[2]/2\n",
    "\n",
    "# Case 4: 5 kHz sampled with 8 kHz\n",
    "t4 = np.r_[0:2:(1/fs[3])]\n",
    "sig4 = np.sin(2*np.pi*5000*t4)\n",
    "\n",
    "w4, h4 = signal.freqz(sig4,worN=1024)\n",
    "w4 = w4 / np.pi * fs[3]/2\n",
    "\n",
    "# Case 5: 5 kHz sampled with 6 kHz\n",
    "t5 = np.r_[0:2:(1/fs[4])]\n",
    "sig5 = np.sin(2*np.pi*5000*t5)\n",
    "\n",
    "w5, h5 = signal.freqz(sig5,worN=1024)\n",
    "w5 = w5 / np.pi * fs[4]/2\n",
    "\n",
    "\n"
   ]
  },
  {
   "cell_type": "markdown",
   "metadata": {},
   "source": [
    "### Case 1 (5 kHz sampled with 72 kHz)"
   ]
  },
  {
   "cell_type": "code",
   "execution_count": null,
   "metadata": {
    "scrolled": false
   },
   "outputs": [],
   "source": [
    "plt.figure()\n",
    "width, height = plt.figaspect(0.2)\n",
    "fig = plt.figure(figsize=(width,height))\n",
    "\n",
    "plt.plot(t1[0:720]*1000,sig1[0:720])\n",
    "plt.legend((\"fs = 72 kHz\",\"\"))\n",
    "plt.xlabel(\"time (ms)\")\n",
    "plt.ylabel(\"Amplitude\")\n",
    "\n",
    "\n",
    "\n",
    "plt.figure()\n",
    "width, height = plt.figaspect(0.2)\n",
    "fig = plt.figure(figsize=(width,height))\n",
    "plt.plot(w1/1000,abs(h1)/np.max(abs(h1)))\n",
    "plt.xlabel(\"frequency (kHz)\")\n",
    "plt.ylabel(\"Normalized Amplitude\")\n",
    "plt.legend((\"fs = 72 kHz\",\"\"))\n",
    "plt.axis([0,10,0,1])\n"
   ]
  },
  {
   "cell_type": "code",
   "execution_count": null,
   "metadata": {},
   "outputs": [],
   "source": [
    "\n",
    "sd.default.samplerate=fs[0]\n",
    "sd.play(sig1)\n"
   ]
  },
  {
   "cell_type": "markdown",
   "metadata": {},
   "source": [
    "### Case 2 (5 kHz sampled with 24 kHz)"
   ]
  },
  {
   "cell_type": "code",
   "execution_count": null,
   "metadata": {},
   "outputs": [],
   "source": [
    "plt.figure()\n",
    "width, height = plt.figaspect(0.2)\n",
    "fig = plt.figure(figsize=(width,height))\n",
    "\n",
    "plt.plot(t1[0:720]*1000,sig1[0:720])\n",
    "plt.plot(t2[0:240]*1000,sig2[0:240])\n",
    "plt.legend((\"fs = 72 kHz\",\"fs = 24 kHz\"))\n",
    "plt.xlabel(\"time (ms)\")\n",
    "plt.ylabel(\"Amplitude\")\n",
    "\n",
    "\n",
    "\n",
    "plt.figure()\n",
    "width, height = plt.figaspect(0.2)\n",
    "fig = plt.figure(figsize=(width,height))\n",
    "plt.plot(w1/1000,abs(h1)/np.max(abs(h1)))\n",
    "plt.plot(w2/1000,abs(h2)/np.max(abs(h2)))\n",
    "plt.xlabel(\"frequency (kHz)\")\n",
    "plt.ylabel(\"Normalized Amplitude\")\n",
    "plt.legend((\"fs = 72 kHz\",\"fs = 24 kHz\"))\n",
    "plt.axis([0,10,0,1])\n"
   ]
  },
  {
   "cell_type": "code",
   "execution_count": null,
   "metadata": {},
   "outputs": [],
   "source": [
    "sd.default.samplerate=fs[0]\n",
    "sd.play(sig1)\n"
   ]
  },
  {
   "cell_type": "code",
   "execution_count": null,
   "metadata": {},
   "outputs": [],
   "source": [
    "sd.default.samplerate=fs[1]\n",
    "sd.play(sig2)\n"
   ]
  },
  {
   "cell_type": "markdown",
   "metadata": {},
   "source": [
    "### Case 3 (5 kHz sampled with 12 kHz)"
   ]
  },
  {
   "cell_type": "code",
   "execution_count": null,
   "metadata": {
    "scrolled": false
   },
   "outputs": [],
   "source": [
    "plt.figure()\n",
    "width, height = plt.figaspect(0.2)\n",
    "fig = plt.figure(figsize=(width,height))\n",
    "\n",
    "plt.plot(t1[0:720]*1000,sig1[0:720])\n",
    "plt.plot(t3[0:120]*1000,sig3[0:120])\n",
    "plt.legend((\"fs = 72 kHz\",\"fs = 12 kHz\"))\n",
    "plt.xlabel(\"time (ms)\")\n",
    "plt.ylabel(\"Amplitude\")\n",
    "\n",
    "\n",
    "\n",
    "plt.figure()\n",
    "width, height = plt.figaspect(0.2)\n",
    "fig = plt.figure(figsize=(width,height))\n",
    "plt.plot(w1/1000,abs(h1)/np.max(abs(h1)))\n",
    "plt.plot(w3/1000,abs(h3)/np.max(abs(h3)))\n",
    "plt.xlabel(\"frequency (kHz)\")\n",
    "plt.ylabel(\"Normalized Amplitude\")\n",
    "plt.legend((\"fs = 72 kHz\",\"fs = 12 kHz\"))\n",
    "plt.axis([0,10,0,1])\n"
   ]
  },
  {
   "cell_type": "code",
   "execution_count": null,
   "metadata": {},
   "outputs": [],
   "source": [
    "sd.default.samplerate=fs[0]\n",
    "sd.play(sig1)\n"
   ]
  },
  {
   "cell_type": "code",
   "execution_count": null,
   "metadata": {},
   "outputs": [],
   "source": [
    "sd.default.samplerate=fs[2]\n",
    "sd.play(sig3)"
   ]
  },
  {
   "cell_type": "markdown",
   "metadata": {},
   "source": [
    "### Case 4 (5 kHz sampled with 8 kHz)"
   ]
  },
  {
   "cell_type": "code",
   "execution_count": null,
   "metadata": {},
   "outputs": [],
   "source": [
    "sd.default.samplerate=fs[0]\n",
    "sd.play(sig1)\n"
   ]
  },
  {
   "cell_type": "code",
   "execution_count": null,
   "metadata": {},
   "outputs": [],
   "source": [
    "sd.default.samplerate=fs[3]\n",
    "sd.play(sig4)\n"
   ]
  },
  {
   "cell_type": "code",
   "execution_count": null,
   "metadata": {},
   "outputs": [],
   "source": [
    "plt.figure()\n",
    "width, height = plt.figaspect(0.2)\n",
    "fig = plt.figure(figsize=(width,height))\n",
    "\n",
    "plt.plot(t1[0:720]*1000,sig1[0:720])\n",
    "plt.plot(t4[0:80]*1000,sig4[0:80])\n",
    "plt.legend((\"fs = 72 kHz\",\"fs = 8 kHz\"))\n",
    "plt.xlabel(\"time (ms)\")\n",
    "plt.ylabel(\"Amplitude\")\n",
    "\n",
    "\n",
    "\n",
    "plt.figure()\n",
    "width, height = plt.figaspect(0.2)\n",
    "fig = plt.figure(figsize=(width,height))\n",
    "plt.plot(w1/1000,abs(h1)/np.max(abs(h1)))\n",
    "plt.plot(w4/1000,abs(h4)/np.max(abs(h4)))\n",
    "plt.xlabel(\"frequency (kHz)\")\n",
    "plt.ylabel(\"Normalized Amplitude\")\n",
    "plt.legend((\"fs = 72 kHz\",\"fs = 8 kHz\"))\n",
    "plt.axis([0,10,0,1])\n"
   ]
  },
  {
   "cell_type": "code",
   "execution_count": null,
   "metadata": {},
   "outputs": [],
   "source": [
    "sd.default.samplerate=fs[0]\n",
    "sd.play(sig1)"
   ]
  },
  {
   "cell_type": "code",
   "execution_count": null,
   "metadata": {},
   "outputs": [],
   "source": [
    "sd.default.samplerate=fs[3]\n",
    "sd.play(sig4)"
   ]
  },
  {
   "cell_type": "markdown",
   "metadata": {},
   "source": [
    "### Case 5 (5 kHz sampled with 6 kHz)"
   ]
  },
  {
   "cell_type": "code",
   "execution_count": null,
   "metadata": {},
   "outputs": [],
   "source": [
    "sd.default.samplerate=fs[0]\n",
    "sd.play(sig1)"
   ]
  },
  {
   "cell_type": "code",
   "execution_count": null,
   "metadata": {},
   "outputs": [],
   "source": [
    "sd.default.samplerate=fs[4]\n",
    "sd.play(sig5)"
   ]
  },
  {
   "cell_type": "code",
   "execution_count": null,
   "metadata": {},
   "outputs": [],
   "source": [
    "plt.figure()\n",
    "width, height = plt.figaspect(0.2)\n",
    "fig = plt.figure(figsize=(width,height))\n",
    "\n",
    "plt.plot(t1[0:720]*1000,sig1[0:720])\n",
    "plt.plot(t5[0:60]*1000,sig5[0:60])\n",
    "plt.legend((\"fs = 72 kHz\",\"fs = 6 kHz\"))\n",
    "plt.xlabel(\"time (ms)\")\n",
    "plt.ylabel(\"Amplitude\")\n",
    "\n",
    "\n",
    "\n",
    "plt.figure()\n",
    "width, height = plt.figaspect(0.2)\n",
    "fig = plt.figure(figsize=(width,height))\n",
    "plt.plot(w1/1000,abs(h1)/np.max(abs(h1)))\n",
    "plt.plot(w5/1000,abs(h5)/np.max(abs(h5)))\n",
    "plt.xlabel(\"frequency (kHz)\")\n",
    "plt.ylabel(\"Normalized Amplitude\")\n",
    "plt.legend((\"fs = 72 kHz\",\"fs = 6 kHz\"))\n",
    "plt.axis([0,10,0,1])\n"
   ]
  },
  {
   "cell_type": "code",
   "execution_count": null,
   "metadata": {},
   "outputs": [],
   "source": [
    "sd.default.samplerate=fs[0]\n",
    "sd.play(sig1)"
   ]
  },
  {
   "cell_type": "code",
   "execution_count": null,
   "metadata": {},
   "outputs": [],
   "source": [
    "sd.default.samplerate=fs[4]\n",
    "sd.play(sig5)"
   ]
  },
  {
   "cell_type": "markdown",
   "metadata": {},
   "source": [
    "### Some other interesting cases"
   ]
  },
  {
   "cell_type": "code",
   "execution_count": null,
   "metadata": {},
   "outputs": [],
   "source": [
    "\n",
    "fs_a = 4500\n",
    "t_a = np.r_[0:2:(1/fs_a)]\n",
    "sig_a = np.sin(2*np.pi*5000*t_a)\n",
    "\n",
    "sd.default.samplerate=fs_a\n",
    "sd.play(sig_a)"
   ]
  },
  {
   "cell_type": "code",
   "execution_count": null,
   "metadata": {},
   "outputs": [],
   "source": [
    "\n",
    "fs_a = 12000 # Try 12000 and 6000 Hz\n",
    "t_a = np.r_[0:6:(1/fs_a)]\n",
    "sig_a = np.zeros_like(t_a)\n",
    "for i in range(0,6):\n",
    "    sig_a[(i*fs_a):(i*fs_a+fs_a)] = np.sin(2*np.pi*(5000+100*i)*t_a[(i*fs_a):(i*fs_a+fs_a)])\n",
    "\n",
    "sd.default.samplerate=fs_a\n",
    "sd.play(sig_a)"
   ]
  }
 ],
 "metadata": {
  "kernelspec": {
   "display_name": "Python 3",
   "language": "python",
   "name": "python3"
  },
  "language_info": {
   "codemirror_mode": {
    "name": "ipython",
    "version": 3
   },
   "file_extension": ".py",
   "mimetype": "text/x-python",
   "name": "python",
   "nbconvert_exporter": "python",
   "pygments_lexer": "ipython3",
   "version": "3.6.6"
  },
  "toc": {
   "base_numbering": 1,
   "nav_menu": {},
   "number_sections": true,
   "sideBar": true,
   "skip_h1_title": false,
   "title_cell": "Table of Contents",
   "title_sidebar": "Contents",
   "toc_cell": false,
   "toc_position": {},
   "toc_section_display": true,
   "toc_window_display": false
  }
 },
 "nbformat": 4,
 "nbformat_minor": 2
}
